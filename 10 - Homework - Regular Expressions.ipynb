{
 "cells": [
  {
   "cell_type": "markdown",
   "metadata": {},
   "source": [
    "# Homework 10: Cleaning data with Regular Expressions\n",
    "\n",
    "Time to use regular expressions!\n",
    "\n",
    "# Hints and notes\n",
    "\n",
    "### Opening files in subdirectories\n",
    "\n",
    "Notice that this notebook might be **homework/**, but!!! the csvs and text files might be in **homework/scraped/** or **/homework/scraped/minutes_pdfs** or **/homework/pdfs/**. To open a file in a subdirectory, instead of having the filename be `\"file.csv\"` you'll just use `\"some/subfolder/file.csv\"`\n",
    "\n",
    "### Opening text files\n",
    "\n",
    "This will open up a file, read it in and show you the first 500 characters.\n",
    "\n",
    "```python\n",
    "contents = open(\"your-filename.txt\").read()\n",
    "contents[0:500]\n",
    "```\n",
    "\n",
    "> You might need `open(\"your-filename.txt\", encoding=\"utf8\").read()`\n",
    "\n",
    "### Using regex\n",
    "\n",
    "For some dumb reason you need to put `r` in front of the string you use when you're talking about regex. Just plain `\"(\\d\\d\\d)\"` will usually work, but *sometimes* it won't and you'll need `r\"(\\d\\d\\d)`. It's best to just use the `r` all of the time, if you can remember!\n",
    "\n",
    "### Using `.str.extract`\n",
    "\n",
    "When you use `.str.extract`, you're always going to **capture one thing** and save it to a new column. You need to wrap the things you're interested in with parenthesis `(` `)`.\n",
    "\n",
    "```python\n",
    "df['phone_number'] = df['old_column'].str.extract(r\"My phone number is (\\d\\d\\d-\\d\\d\\d-\\d\\d\\d\\d)\")\n",
    "```\n",
    "\n",
    "### Setting pandas options\n",
    "\n",
    "Pandas has a lot of options, like how many columns or rows it will show you, or how many characters it will show in a column before it stops showing you anything. Here are a few useful ones:\n",
    "\n",
    "* `display.max_cols`: Number of columns to show at once\n",
    "* `display.max_rows`: Number of rows to show at once\n",
    "* `display.max_colwidth`: Maximum number of characters displayed from a string\n",
    "\n",
    "You can set them using `pd.set_option(\"display.max_rows\", 1000)`, for example, to show 1000 rows at a time. You can find a lot more at https://pandas.pydata.org/pandas-docs/stable/generated/pandas.set_option.html\n",
    "\n",
    "### Regular expressions reference\n",
    "\n",
    "I personally think http://www.regular-expressions.info/ is a wonderful wonderful reference (and tutorial), even if it's ugly! But here's a quick reference for you:\n",
    "\n",
    "* `\\d` is a digit\n",
    "* `\\d*` is zero or more digits \n",
    "* `\\d+` is one or more digits\n",
    "* `.` matches anything for ONE character\n",
    "* `.*` is \"give me anything forever\"\n",
    "* `\\s` is whitespace, a.k.a. spaces and tabs\n",
    "* `\\w` is a word character, which includes capital and lowercase letters, numbers and hyphens.\n",
    "* You can put `*` after anything, so `\\w*` would mean \"as many word characters as you can find\"\n",
    "* `\\b` is a word boundary (you'll need the `r\"\"` thing for this one)\n",
    "* `( )` is a \"capture group\" for saving something\n",
    "* `\\1` is used when doing find/replace to say \"put the first captured group here\" (note, it's a dollar sign instead of a backslash in some editors)\n",
    "* `[ABCDE]` is a character class, which means \"match one of these, I don't care which\"\n",
    "* dollar sign means \"end of the line\"\n",
    "* caret ^ means \"beginning of the line\"\n",
    "* `\\.` means \"no really seriously I mean a period not just anything\"\n",
    "* You can use `\\` with anything else that would normally be a special character, too, not just periods. `(` or `[` or whatever.\n",
    "\n",
    "### Cleaning up extracted columns\n",
    "\n",
    "Sometimes you get `\\n` (newlines) or spaces or `\\t` (tabs) or stuff at the beginning or the end of your column. `.str.strip()` will usually take care of that, just attach it after your `.str.extract()`\n",
    "\n",
    "After you extract something, it's still a string even though you look at it and know it's a number. Use `.astype(int)` to turn it into an integer (no decimal) or `.astype(float)` to turn it into a float (yes decimal)\n",
    "\n",
    "### Writing regular expressions in general\n",
    "\n",
    "Even if I'm using regex in pandas or Python, I like to test them in my text editor with \"Find.\" The highlighting really helps me see if I'm matching things! I also like to think \"what stays the same?\" when designing patterns, write those parts first, then fill in the blanks with what I want to capture."
   ]
  },
  {
   "cell_type": "markdown",
   "metadata": {},
   "source": [
    "## Importing\n",
    "\n",
    "There might be more, I just wanted to put this up here for the `pd.set_option` part. It allows you to see a lot of content in a single column of pandas, which will be important for some parts below."
   ]
  },
  {
   "cell_type": "code",
   "execution_count": 1,
   "metadata": {},
   "outputs": [],
   "source": [
    "import re\n",
    "import pandas as pd\n",
    "pd.set_option('display.max_colwidth', 500)"
   ]
  },
  {
   "cell_type": "markdown",
   "metadata": {},
   "source": [
    "# Part 1: Using `.str.extract` to pull data from columns in pandas\n",
    "\n",
    "## 1.1 H&M\n",
    "\n",
    "Open up `hm.csv` from the `scraped` directory. I want **four new columns**:\n",
    "\n",
    "1. `price_original`, the original price, one of the new price\n",
    "2. `price_discounted`, the discounted price\n",
    "3. `pct_discount`, the percent discount\n",
    "4. `article_id`, the article id (from the url)\n",
    "\n",
    "Save as **hm_cleaned.csv**.\n",
    "\n",
    "**Note:** When you look at it, it... won't look right. I don't know why, pandas is weird. Look at the `price` column by itself using `df['price']` before you write your regex.\n",
    "\n",
    "**Tip:** Remember that `$` is a special regex symbol! You might need to escape it.\n",
    "\n",
    "**Tip:** When doing `.str.extract`, the whole match doesn't get captured, only what you put `()` around! Think about anchoring to different points of the string, or things in the string.\n",
    "\n",
    "**Tip:** Not all prices have cents!\n",
    "\n",
    "**Tip:** Your first instinct about how to compute the percent discount is probably wrong"
   ]
  },
  {
   "cell_type": "code",
   "execution_count": 2,
   "metadata": {},
   "outputs": [
    {
     "data": {
      "text/html": [
       "<div>\n",
       "<style scoped>\n",
       "    .dataframe tbody tr th:only-of-type {\n",
       "        vertical-align: middle;\n",
       "    }\n",
       "\n",
       "    .dataframe tbody tr th {\n",
       "        vertical-align: top;\n",
       "    }\n",
       "\n",
       "    .dataframe thead th {\n",
       "        text-align: right;\n",
       "    }\n",
       "</style>\n",
       "<table border=\"1\" class=\"dataframe\">\n",
       "  <thead>\n",
       "    <tr style=\"text-align: right;\">\n",
       "      <th></th>\n",
       "      <th>name</th>\n",
       "      <th>price</th>\n",
       "      <th>url</th>\n",
       "    </tr>\n",
       "  </thead>\n",
       "  <tbody>\n",
       "    <tr>\n",
       "      <th>0</th>\n",
       "      <td>Washed Linen Duvet Cover Set</td>\n",
       "      <td>$59.99 $129</td>\n",
       "      <td>http://www.hm.com/us/product/13472?article=13472-N</td>\n",
       "    </tr>\n",
       "    <tr>\n",
       "      <th>1</th>\n",
       "      <td>Candle in Glass Jar</td>\n",
       "      <td>$6.99 $17.99</td>\n",
       "      <td>http://www.hm.com/us/product/35079?article=35079-D</td>\n",
       "    </tr>\n",
       "    <tr>\n",
       "      <th>2</th>\n",
       "      <td>Glittery Cushion Cover</td>\n",
       "      <td>$7.99 $17.99</td>\n",
       "      <td>http://www.hm.com/us/product/72462?article=72462-A</td>\n",
       "    </tr>\n",
       "    <tr>\n",
       "      <th>3</th>\n",
       "      <td>Textured-weave Cushion Cover</td>\n",
       "      <td>$6.99 $12.99</td>\n",
       "      <td>http://www.hm.com/us/product/58926?article=58926-C</td>\n",
       "    </tr>\n",
       "    <tr>\n",
       "      <th>4</th>\n",
       "      <td>Stoneware Bowl</td>\n",
       "      <td>$17.99 $24.99</td>\n",
       "      <td>http://www.hm.com/us/product/74242?article=74242-A</td>\n",
       "    </tr>\n",
       "  </tbody>\n",
       "</table>\n",
       "</div>"
      ],
      "text/plain": [
       "                           name          price  \\\n",
       "0  Washed Linen Duvet Cover Set    $59.99 $129   \n",
       "1           Candle in Glass Jar   $6.99 $17.99   \n",
       "2        Glittery Cushion Cover   $7.99 $17.99   \n",
       "3  Textured-weave Cushion Cover   $6.99 $12.99   \n",
       "4                Stoneware Bowl  $17.99 $24.99   \n",
       "\n",
       "                                                  url  \n",
       "0  http://www.hm.com/us/product/13472?article=13472-N  \n",
       "1  http://www.hm.com/us/product/35079?article=35079-D  \n",
       "2  http://www.hm.com/us/product/72462?article=72462-A  \n",
       "3  http://www.hm.com/us/product/58926?article=58926-C  \n",
       "4  http://www.hm.com/us/product/74242?article=74242-A  "
      ]
     },
     "execution_count": 2,
     "metadata": {},
     "output_type": "execute_result"
    }
   ],
   "source": [
    "df = pd.read_csv('scraped/hm.csv')\n",
    "df.head()"
   ]
  },
  {
   "cell_type": "code",
   "execution_count": 3,
   "metadata": {},
   "outputs": [
    {
     "data": {
      "text/plain": [
       "0      $59.99 $129\n",
       "1     $6.99 $17.99\n",
       "2     $7.99 $17.99\n",
       "3     $6.99 $12.99\n",
       "4    $17.99 $24.99\n",
       "Name: price, dtype: object"
      ]
     },
     "execution_count": 3,
     "metadata": {},
     "output_type": "execute_result"
    }
   ],
   "source": [
    "df['price'].head()"
   ]
  },
  {
   "cell_type": "code",
   "execution_count": 4,
   "metadata": {},
   "outputs": [
    {
     "data": {
      "text/plain": [
       "0    59.99\n",
       "1     6.99\n",
       "2     7.99\n",
       "3     6.99\n",
       "4    17.99\n",
       "Name: price_discounted, dtype: float64"
      ]
     },
     "execution_count": 4,
     "metadata": {},
     "output_type": "execute_result"
    }
   ],
   "source": [
    "df['price_discounted'] = df['price'].str.extract(\"(\\d+.\\d+)\").astype(float)\n",
    "df['price_discounted'].head()"
   ]
  },
  {
   "cell_type": "code",
   "execution_count": 5,
   "metadata": {},
   "outputs": [
    {
     "data": {
      "text/plain": [
       "0    129.00\n",
       "1     17.99\n",
       "2     17.99\n",
       "3     12.99\n",
       "4     24.99\n",
       "Name: price_original, dtype: float64"
      ]
     },
     "execution_count": 5,
     "metadata": {},
     "output_type": "execute_result"
    }
   ],
   "source": [
    "df['price_original'] = df['price'].str.extract(\"([\\d.]+$)\").astype(float)\n",
    "df['price_original'].head()"
   ]
  },
  {
   "cell_type": "code",
   "execution_count": 6,
   "metadata": {},
   "outputs": [
    {
     "data": {
      "text/plain": [
       "0    53.0\n",
       "1    61.0\n",
       "2    56.0\n",
       "3    46.0\n",
       "4    28.0\n",
       "Name: pct_discount, dtype: float64"
      ]
     },
     "execution_count": 6,
     "metadata": {},
     "output_type": "execute_result"
    }
   ],
   "source": [
    "df['pct_discount'] = round(100 - df['price_discounted'] / df['price_original'] * 100)\n",
    "df['pct_discount'].head()"
   ]
  },
  {
   "cell_type": "code",
   "execution_count": 7,
   "metadata": {
    "scrolled": true
   },
   "outputs": [
    {
     "data": {
      "text/plain": [
       "0    13472-N\n",
       "1    35079-D\n",
       "2    72462-A\n",
       "3    58926-C\n",
       "4    74242-A\n",
       "Name: article_id, dtype: object"
      ]
     },
     "execution_count": 7,
     "metadata": {},
     "output_type": "execute_result"
    }
   ],
   "source": [
    "df['article_id'] = df['url'].str.extract(\"([\\w\\d-]+$)\")\n",
    "df['article_id'].head()"
   ]
  },
  {
   "cell_type": "code",
   "execution_count": 8,
   "metadata": {
    "scrolled": true
   },
   "outputs": [
    {
     "data": {
      "text/html": [
       "<div>\n",
       "<style scoped>\n",
       "    .dataframe tbody tr th:only-of-type {\n",
       "        vertical-align: middle;\n",
       "    }\n",
       "\n",
       "    .dataframe tbody tr th {\n",
       "        vertical-align: top;\n",
       "    }\n",
       "\n",
       "    .dataframe thead th {\n",
       "        text-align: right;\n",
       "    }\n",
       "</style>\n",
       "<table border=\"1\" class=\"dataframe\">\n",
       "  <thead>\n",
       "    <tr style=\"text-align: right;\">\n",
       "      <th></th>\n",
       "      <th>name</th>\n",
       "      <th>price</th>\n",
       "      <th>url</th>\n",
       "      <th>price_discounted</th>\n",
       "      <th>price_original</th>\n",
       "      <th>pct_discount</th>\n",
       "      <th>article_id</th>\n",
       "    </tr>\n",
       "  </thead>\n",
       "  <tbody>\n",
       "    <tr>\n",
       "      <th>0</th>\n",
       "      <td>Washed Linen Duvet Cover Set</td>\n",
       "      <td>$59.99 $129</td>\n",
       "      <td>http://www.hm.com/us/product/13472?article=13472-N</td>\n",
       "      <td>59.99</td>\n",
       "      <td>129.00</td>\n",
       "      <td>53.0</td>\n",
       "      <td>13472-N</td>\n",
       "    </tr>\n",
       "    <tr>\n",
       "      <th>1</th>\n",
       "      <td>Candle in Glass Jar</td>\n",
       "      <td>$6.99 $17.99</td>\n",
       "      <td>http://www.hm.com/us/product/35079?article=35079-D</td>\n",
       "      <td>6.99</td>\n",
       "      <td>17.99</td>\n",
       "      <td>61.0</td>\n",
       "      <td>35079-D</td>\n",
       "    </tr>\n",
       "    <tr>\n",
       "      <th>2</th>\n",
       "      <td>Glittery Cushion Cover</td>\n",
       "      <td>$7.99 $17.99</td>\n",
       "      <td>http://www.hm.com/us/product/72462?article=72462-A</td>\n",
       "      <td>7.99</td>\n",
       "      <td>17.99</td>\n",
       "      <td>56.0</td>\n",
       "      <td>72462-A</td>\n",
       "    </tr>\n",
       "    <tr>\n",
       "      <th>3</th>\n",
       "      <td>Textured-weave Cushion Cover</td>\n",
       "      <td>$6.99 $12.99</td>\n",
       "      <td>http://www.hm.com/us/product/58926?article=58926-C</td>\n",
       "      <td>6.99</td>\n",
       "      <td>12.99</td>\n",
       "      <td>46.0</td>\n",
       "      <td>58926-C</td>\n",
       "    </tr>\n",
       "    <tr>\n",
       "      <th>4</th>\n",
       "      <td>Stoneware Bowl</td>\n",
       "      <td>$17.99 $24.99</td>\n",
       "      <td>http://www.hm.com/us/product/74242?article=74242-A</td>\n",
       "      <td>17.99</td>\n",
       "      <td>24.99</td>\n",
       "      <td>28.0</td>\n",
       "      <td>74242-A</td>\n",
       "    </tr>\n",
       "  </tbody>\n",
       "</table>\n",
       "</div>"
      ],
      "text/plain": [
       "                           name          price  \\\n",
       "0  Washed Linen Duvet Cover Set    $59.99 $129   \n",
       "1           Candle in Glass Jar   $6.99 $17.99   \n",
       "2        Glittery Cushion Cover   $7.99 $17.99   \n",
       "3  Textured-weave Cushion Cover   $6.99 $12.99   \n",
       "4                Stoneware Bowl  $17.99 $24.99   \n",
       "\n",
       "                                                  url  price_discounted  \\\n",
       "0  http://www.hm.com/us/product/13472?article=13472-N             59.99   \n",
       "1  http://www.hm.com/us/product/35079?article=35079-D              6.99   \n",
       "2  http://www.hm.com/us/product/72462?article=72462-A              7.99   \n",
       "3  http://www.hm.com/us/product/58926?article=58926-C              6.99   \n",
       "4  http://www.hm.com/us/product/74242?article=74242-A             17.99   \n",
       "\n",
       "   price_original  pct_discount article_id  \n",
       "0          129.00          53.0    13472-N  \n",
       "1           17.99          61.0    35079-D  \n",
       "2           17.99          56.0    72462-A  \n",
       "3           12.99          46.0    58926-C  \n",
       "4           24.99          28.0    74242-A  "
      ]
     },
     "execution_count": 8,
     "metadata": {},
     "output_type": "execute_result"
    }
   ],
   "source": [
    "df.head()"
   ]
  },
  {
   "cell_type": "code",
   "execution_count": 9,
   "metadata": {},
   "outputs": [],
   "source": [
    "df.to_csv('hm_cleaned.csv', index=False)"
   ]
  },
  {
   "cell_type": "markdown",
   "metadata": {},
   "source": [
    "## 1.2 Sci-Fi Authors\n",
    "\n",
    "Open up `sci-fi.csv` to clean. Get rid of the `\\n` on the title and and give me six new columns:\n",
    "\n",
    "* `avg_rating`\n",
    "* `rating_count`\n",
    "* `total_score`\n",
    "* `score_votes`\n",
    "* `series` the series the book belongs to\n",
    "* `series_no` the book in the series that it is\n",
    "\n",
    "For series, I'm talking about e.g. `(The Hunger Games, #1)` is `series` \"The Hunter Games\" and `series_no` 1.\n",
    "\n",
    "Save as **sci-fi_cleaned.csv**.\n",
    "\n",
    "**Tip:** You don't need regex to clean the title - there's a special thing that removes whitespace from the beginning/end of strings\n",
    "\n",
    "**Tip:** Remember that `(` and `)` are special characters\n",
    "\n",
    "**BONUS:** When you make the `total_score` column, pay close attention to it. If you notice the problem, fix it.\n",
    "\n",
    "**BONUS:** You don't need these columns to be numbers, but life would be better if they were. "
   ]
  },
  {
   "cell_type": "code",
   "execution_count": 10,
   "metadata": {},
   "outputs": [],
   "source": [
    "df = pd.read_csv('scraped/sci-fi.csv')"
   ]
  },
  {
   "cell_type": "code",
   "execution_count": 11,
   "metadata": {},
   "outputs": [
    {
     "data": {
      "text/html": [
       "<div>\n",
       "<style scoped>\n",
       "    .dataframe tbody tr th:only-of-type {\n",
       "        vertical-align: middle;\n",
       "    }\n",
       "\n",
       "    .dataframe tbody tr th {\n",
       "        vertical-align: top;\n",
       "    }\n",
       "\n",
       "    .dataframe thead th {\n",
       "        text-align: right;\n",
       "    }\n",
       "</style>\n",
       "<table border=\"1\" class=\"dataframe\">\n",
       "  <thead>\n",
       "    <tr style=\"text-align: right;\">\n",
       "      <th></th>\n",
       "      <th>full_rating</th>\n",
       "      <th>full_score</th>\n",
       "      <th>rank</th>\n",
       "      <th>title</th>\n",
       "      <th>url</th>\n",
       "    </tr>\n",
       "  </thead>\n",
       "  <tbody>\n",
       "    <tr>\n",
       "      <th>0</th>\n",
       "      <td>4.07 avg rating — 785,502 ratings</td>\n",
       "      <td>\\nscore: 28,539,\\n              and\\n292 people voted\\n               \\n              \\n</td>\n",
       "      <td>1</td>\n",
       "      <td>\\nThe Handmaid's Tale\\n</td>\n",
       "      <td>/book/show/38447.The_Handmaid_s_Tale</td>\n",
       "    </tr>\n",
       "    <tr>\n",
       "      <th>1</th>\n",
       "      <td>4.34 avg rating — 5,212,935 ratings</td>\n",
       "      <td>\\nscore: 27,566,\\n              and\\n282 people voted\\n               \\n              \\n</td>\n",
       "      <td>2</td>\n",
       "      <td>\\nThe Hunger Games (The Hunger Games, #1)\\n</td>\n",
       "      <td>/book/show/2767052-the-hunger-games</td>\n",
       "    </tr>\n",
       "    <tr>\n",
       "      <th>2</th>\n",
       "      <td>3.76 avg rating — 922,308 ratings</td>\n",
       "      <td>\\nscore: 20,049,\\n              and\\n205 people voted\\n               \\n              \\n</td>\n",
       "      <td>3</td>\n",
       "      <td>\\nFrankenstein, or The Modern Prometheus\\n</td>\n",
       "      <td>/book/show/18490.Frankenstein_or_The_Modern_Prometheus</td>\n",
       "    </tr>\n",
       "    <tr>\n",
       "      <th>3</th>\n",
       "      <td>4.04 avg rating — 702,272 ratings</td>\n",
       "      <td>\\nscore: 17,684,\\n              and\\n185 people voted\\n               \\n              \\n</td>\n",
       "      <td>4</td>\n",
       "      <td>\\nA Wrinkle in Time (A Wrinkle in Time Quintet, #1)\\n</td>\n",
       "      <td>/book/show/18131.A_Wrinkle_in_Time</td>\n",
       "    </tr>\n",
       "    <tr>\n",
       "      <th>4</th>\n",
       "      <td>4.06 avg rating — 77,664 ratings</td>\n",
       "      <td>\\nscore: 16,070,\\n              and\\n165 people voted\\n               \\n              \\n</td>\n",
       "      <td>5</td>\n",
       "      <td>\\nThe Left Hand of Darkness\\n</td>\n",
       "      <td>/book/show/18423.The_Left_Hand_of_Darkness</td>\n",
       "    </tr>\n",
       "    <tr>\n",
       "      <th>5</th>\n",
       "      <td>4.23 avg rating — 2,345,974 ratings</td>\n",
       "      <td>\\nscore: 12,935,\\n              and\\n134 people voted\\n               \\n              \\n</td>\n",
       "      <td>6</td>\n",
       "      <td>\\nDivergent (Divergent, #1)\\n</td>\n",
       "      <td>/book/show/13335037-divergent</td>\n",
       "    </tr>\n",
       "    <tr>\n",
       "      <th>6</th>\n",
       "      <td>4.30 avg rating — 2,049,239 ratings</td>\n",
       "      <td>\\nscore: 12,261,\\n              and\\n128 people voted\\n               \\n              \\n</td>\n",
       "      <td>7</td>\n",
       "      <td>\\nCatching Fire (The Hunger Games, #2)\\n</td>\n",
       "      <td>/book/show/6148028-catching-fire</td>\n",
       "    </tr>\n",
       "    <tr>\n",
       "      <th>7</th>\n",
       "      <td>4.12 avg rating — 1,379,452 ratings</td>\n",
       "      <td>\\nscore: 11,238,\\n              and\\n117 people voted\\n               \\n              \\n</td>\n",
       "      <td>8</td>\n",
       "      <td>\\nThe Giver (The Giver, #1)\\n</td>\n",
       "      <td>/book/show/3636.The_Giver</td>\n",
       "    </tr>\n",
       "    <tr>\n",
       "      <th>8</th>\n",
       "      <td>4.19 avg rating — 57,605 ratings</td>\n",
       "      <td>\\nscore: 10,246,\\n              and\\n107 people voted\\n               \\n              \\n</td>\n",
       "      <td>9</td>\n",
       "      <td>\\nThe Dispossessed\\n</td>\n",
       "      <td>/book/show/13651.The_Dispossessed</td>\n",
       "    </tr>\n",
       "    <tr>\n",
       "      <th>9</th>\n",
       "      <td>4.20 avg rating — 53,473 ratings</td>\n",
       "      <td>\\nscore: 9,907,\\n              and\\n104 people voted\\n               \\n              \\n</td>\n",
       "      <td>10</td>\n",
       "      <td>\\nKindred\\n</td>\n",
       "      <td>/book/show/60931.Kindred</td>\n",
       "    </tr>\n",
       "    <tr>\n",
       "      <th>10</th>\n",
       "      <td>really liked it 4.00 avg rating — 176,024 ratings</td>\n",
       "      <td>\\nscore: 9,628,\\n              and\\n102 people voted\\n               \\n              \\n</td>\n",
       "      <td>11</td>\n",
       "      <td>\\nOryx and Crake (MaddAddam, #1)\\n</td>\n",
       "      <td>/book/show/46756.Oryx_and_Crake</td>\n",
       "    </tr>\n",
       "    <tr>\n",
       "      <th>11</th>\n",
       "      <td>4.03 avg rating — 1,932,930 ratings</td>\n",
       "      <td>\\nscore: 9,423,\\n              and\\n100 people voted\\n               \\n              \\n</td>\n",
       "      <td>12</td>\n",
       "      <td>\\nMockingjay (The Hunger Games, #3)\\n</td>\n",
       "      <td>/book/show/7260188-mockingjay</td>\n",
       "    </tr>\n",
       "    <tr>\n",
       "      <th>12</th>\n",
       "      <td>3.95 avg rating — 1,355,662 ratings</td>\n",
       "      <td>\\nscore: 8,250,\\n              and\\n88 people voted\\n               \\n              \\n</td>\n",
       "      <td>13</td>\n",
       "      <td>\\nThe Time Traveler's Wife\\n</td>\n",
       "      <td>/book/show/18619684-the-time-traveler-s-wife</td>\n",
       "    </tr>\n",
       "    <tr>\n",
       "      <th>13</th>\n",
       "      <td>4.03 avg rating — 38,534 ratings</td>\n",
       "      <td>\\nscore: 8,175,\\n              and\\n88 people voted\\n               \\n              \\n</td>\n",
       "      <td>14</td>\n",
       "      <td>\\nDoomsday Book (Oxford Time Travel, #1)\\n</td>\n",
       "      <td>/book/show/24983.Doomsday_Book</td>\n",
       "    </tr>\n",
       "    <tr>\n",
       "      <th>14</th>\n",
       "      <td>4.10 avg rating — 36,316 ratings</td>\n",
       "      <td>\\nscore: 7,523,\\n              and\\n81 people voted\\n               \\n              \\n</td>\n",
       "      <td>15</td>\n",
       "      <td>\\nThe Lathe of Heaven\\n</td>\n",
       "      <td>/book/show/59924.The_Lathe_of_Heaven</td>\n",
       "    </tr>\n",
       "    <tr>\n",
       "      <th>15</th>\n",
       "      <td>4.17 avg rating — 46,116 ratings</td>\n",
       "      <td>\\nscore: 6,571,\\n              and\\n69 people voted\\n               \\n              \\n</td>\n",
       "      <td>16</td>\n",
       "      <td>\\nThe Sparrow (The Sparrow, #1)\\n</td>\n",
       "      <td>/book/show/334176.The_Sparrow</td>\n",
       "    </tr>\n",
       "    <tr>\n",
       "      <th>16</th>\n",
       "      <td>4.12 avg rating — 22,554 ratings</td>\n",
       "      <td>\\nscore: 6,418,\\n              and\\n68 people voted\\n               \\n              \\n</td>\n",
       "      <td>17</td>\n",
       "      <td>\\nShards of Honour  (Vorkosigan Saga, #1)\\n</td>\n",
       "      <td>/book/show/61903.Shards_of_Honour</td>\n",
       "    </tr>\n",
       "    <tr>\n",
       "      <th>17</th>\n",
       "      <td>3.97 avg rating — 53,063 ratings</td>\n",
       "      <td>\\nscore: 6,257,\\n              and\\n70 people voted\\n               \\n              \\n</td>\n",
       "      <td>18</td>\n",
       "      <td>\\nAncillary Justice (Imperial Radch, #1)\\n</td>\n",
       "      <td>/book/show/17333324-ancillary-justice</td>\n",
       "    </tr>\n",
       "    <tr>\n",
       "      <th>18</th>\n",
       "      <td>4.10 avg rating — 106,206 ratings</td>\n",
       "      <td>\\nscore: 6,238,\\n              and\\n68 people voted\\n               \\n              \\n</td>\n",
       "      <td>19</td>\n",
       "      <td>\\nDragonflight (Dragonriders of Pern, #1)\\n</td>\n",
       "      <td>/book/show/61975.Dragonflight</td>\n",
       "    </tr>\n",
       "    <tr>\n",
       "      <th>19</th>\n",
       "      <td>4.14 avg rating — 31,668 ratings</td>\n",
       "      <td>\\nscore: 5,999,\\n              and\\n64 people voted\\n               \\n              \\n</td>\n",
       "      <td>20</td>\n",
       "      <td>\\nParable of the Sower (Earthseed, #1)\\n</td>\n",
       "      <td>/book/show/52397.Parable_of_the_Sower</td>\n",
       "    </tr>\n",
       "    <tr>\n",
       "      <th>20</th>\n",
       "      <td>4.13 avg rating — 26,705 ratings</td>\n",
       "      <td>\\nscore: 5,933,\\n              and\\n64 people voted\\n               \\n              \\n</td>\n",
       "      <td>21</td>\n",
       "      <td>\\nTo Say Nothing of the Dog (Oxford Time Travel, #2)\\n</td>\n",
       "      <td>/book/show/77773.To_Say_Nothing_of_the_Dog</td>\n",
       "    </tr>\n",
       "    <tr>\n",
       "      <th>21</th>\n",
       "      <td>4.29 avg rating — 18,831 ratings</td>\n",
       "      <td>\\nscore: 5,698,\\n              and\\n61 people voted\\n               \\n              \\n</td>\n",
       "      <td>22</td>\n",
       "      <td>\\nThe Warrior's Apprentice (Vorkosigan Saga, #2)\\n</td>\n",
       "      <td>/book/show/61906.The_Warrior_s_Apprentice</td>\n",
       "    </tr>\n",
       "    <tr>\n",
       "      <th>22</th>\n",
       "      <td>4.31 avg rating — 20,045 ratings</td>\n",
       "      <td>\\nscore: 5,046,\\n              and\\n54 people voted\\n               \\n              \\n</td>\n",
       "      <td>23</td>\n",
       "      <td>\\nBarrayar (Vorkosigan Saga, #7)\\n</td>\n",
       "      <td>/book/show/61905.Barrayar</td>\n",
       "    </tr>\n",
       "    <tr>\n",
       "      <th>23</th>\n",
       "      <td>3.84 avg rating — 793,665 ratings</td>\n",
       "      <td>\\nscore: 5,012,\\n              and\\n53 people voted\\n               \\n              \\n</td>\n",
       "      <td>24</td>\n",
       "      <td>\\nThe Host (The Host, #1)\\n</td>\n",
       "      <td>/book/show/1656001.The_Host</td>\n",
       "    </tr>\n",
       "    <tr>\n",
       "      <th>24</th>\n",
       "      <td>4.06 avg rating — 979,341 ratings</td>\n",
       "      <td>\\nscore: 4,899,\\n              and\\n54 people voted\\n               \\n              \\n</td>\n",
       "      <td>25</td>\n",
       "      <td>\\nInsurgent (Divergent, #2)\\n</td>\n",
       "      <td>/book/show/11735983-insurgent</td>\n",
       "    </tr>\n",
       "    <tr>\n",
       "      <th>25</th>\n",
       "      <td>3.69 avg rating — 33,313 ratings</td>\n",
       "      <td>\\nscore: 4,413,\\n              and\\n48 people voted\\n               \\n              \\n</td>\n",
       "      <td>26</td>\n",
       "      <td>\\nThe Children of Men\\n</td>\n",
       "      <td>/book/show/41913.The_Children_of_Men</td>\n",
       "    </tr>\n",
       "    <tr>\n",
       "      <th>26</th>\n",
       "      <td>4.44 avg rating — 12,743 ratings</td>\n",
       "      <td>\\nscore: 4,398,\\n              and\\n48 people voted\\n               \\n              \\n</td>\n",
       "      <td>27</td>\n",
       "      <td>\\nMemory (Vorkosigan Saga, #10)\\n</td>\n",
       "      <td>/book/show/61880.Memory</td>\n",
       "    </tr>\n",
       "    <tr>\n",
       "      <th>27</th>\n",
       "      <td>3.88 avg rating — 1,466 ratings</td>\n",
       "      <td>\\nscore: 4,394,\\n              and\\n45 people voted\\n               \\n              \\n</td>\n",
       "      <td>28</td>\n",
       "      <td>\\nStarshine: Aurora Rising Book One (Aurora Rhapsody, #1)\\n</td>\n",
       "      <td>/book/show/21534331-starshine</td>\n",
       "    </tr>\n",
       "    <tr>\n",
       "      <th>28</th>\n",
       "      <td>4.08 avg rating — 16,555 ratings</td>\n",
       "      <td>\\nscore: 4,249,\\n              and\\n47 people voted\\n               \\n              \\n</td>\n",
       "      <td>29</td>\n",
       "      <td>\\nCrystal Singer (Crystal Singer, #1)\\n</td>\n",
       "      <td>/book/show/653711.Crystal_Singer</td>\n",
       "    </tr>\n",
       "    <tr>\n",
       "      <th>29</th>\n",
       "      <td>4.06 avg rating — 81,801 ratings</td>\n",
       "      <td>\\nscore: 4,245,\\n              and\\n46 people voted\\n               \\n              \\n</td>\n",
       "      <td>30</td>\n",
       "      <td>\\nThe Year of the Flood  (MaddAddam, #2)\\n</td>\n",
       "      <td>/book/show/6080337-the-year-of-the-flood</td>\n",
       "    </tr>\n",
       "    <tr>\n",
       "      <th>...</th>\n",
       "      <td>...</td>\n",
       "      <td>...</td>\n",
       "      <td>...</td>\n",
       "      <td>...</td>\n",
       "      <td>...</td>\n",
       "    </tr>\n",
       "    <tr>\n",
       "      <th>70</th>\n",
       "      <td>4.41 avg rating — 336 ratings</td>\n",
       "      <td>\\nscore: 1,817,\\n              and\\n19 people voted\\n               \\n              \\n</td>\n",
       "      <td>71</td>\n",
       "      <td>\\nHive (Species Intervention #6609, #4)\\n</td>\n",
       "      <td>/book/show/17322045-hive</td>\n",
       "    </tr>\n",
       "    <tr>\n",
       "      <th>71</th>\n",
       "      <td>4.02 avg rating — 206,616 ratings</td>\n",
       "      <td>\\nscore: 1,775,\\n              and\\n20 people voted\\n               \\n              \\n</td>\n",
       "      <td>72</td>\n",
       "      <td>\\nStation Eleven\\n</td>\n",
       "      <td>/book/show/20170404-station-eleven</td>\n",
       "    </tr>\n",
       "    <tr>\n",
       "      <th>72</th>\n",
       "      <td>3.83 avg rating — 799 ratings</td>\n",
       "      <td>\\nscore: 1,772,\\n              and\\n19 people voted\\n               \\n              \\n</td>\n",
       "      <td>73</td>\n",
       "      <td>\\nBaby (Species Intervention #6609, #1)\\n</td>\n",
       "      <td>/book/show/15992857-baby</td>\n",
       "    </tr>\n",
       "    <tr>\n",
       "      <th>73</th>\n",
       "      <td>3.55 avg rating — 4,568 ratings</td>\n",
       "      <td>\\nscore: 1,740,\\n              and\\n22 people voted\\n               \\n              \\n</td>\n",
       "      <td>74</td>\n",
       "      <td>\\nThe Female Man\\n</td>\n",
       "      <td>/book/show/908311.The_Female_Man</td>\n",
       "    </tr>\n",
       "    <tr>\n",
       "      <th>74</th>\n",
       "      <td>3.78 avg rating — 215 ratings</td>\n",
       "      <td>\\nscore: 1,698,\\n              and\\n17 people voted\\n               \\n              \\n</td>\n",
       "      <td>75</td>\n",
       "      <td>\\nMachinations (Machinations, #1)\\n</td>\n",
       "      <td>/book/show/27876301-machinations</td>\n",
       "    </tr>\n",
       "    <tr>\n",
       "      <th>75</th>\n",
       "      <td>4.01 avg rating — 8,590 ratings</td>\n",
       "      <td>\\nscore: 1,692,\\n              and\\n22 people voted\\n               \\n              \\n</td>\n",
       "      <td>76</td>\n",
       "      <td>\\nThe Speed of Dark\\n</td>\n",
       "      <td>/book/show/96063.The_Speed_of_Dark</td>\n",
       "    </tr>\n",
       "    <tr>\n",
       "      <th>76</th>\n",
       "      <td>4.46 avg rating — 256 ratings</td>\n",
       "      <td>\\nscore: 1,687,\\n              and\\n18 people voted\\n               \\n              \\n</td>\n",
       "      <td>77</td>\n",
       "      <td>\\nEvil Among Us (Species Intervention #6609, #5)\\n</td>\n",
       "      <td>/book/show/17936909-evil-among-us</td>\n",
       "    </tr>\n",
       "    <tr>\n",
       "      <th>77</th>\n",
       "      <td>4.18 avg rating — 748 ratings</td>\n",
       "      <td>\\nscore: 1,684,\\n              and\\n18 people voted\\n               \\n              \\n</td>\n",
       "      <td>78</td>\n",
       "      <td>\\nVertigo (Aurora Rhapsody, #2)\\n</td>\n",
       "      <td>/book/show/23150535-vertigo</td>\n",
       "    </tr>\n",
       "    <tr>\n",
       "      <th>78</th>\n",
       "      <td>4.05 avg rating — 10,873 ratings</td>\n",
       "      <td>\\nscore: 1,683,\\n              and\\n24 people voted\\n               \\n              \\n</td>\n",
       "      <td>79</td>\n",
       "      <td>\\nCryoBurn (Vorkosigan Saga, #14)\\n</td>\n",
       "      <td>/book/show/7841670-cryoburn</td>\n",
       "    </tr>\n",
       "    <tr>\n",
       "      <th>79</th>\n",
       "      <td>4.32 avg rating — 3,203 ratings</td>\n",
       "      <td>\\nscore: 1,575,\\n              and\\n19 people voted\\n               \\n              \\n</td>\n",
       "      <td>80</td>\n",
       "      <td>\\nSeed to Harvest (Patternmaster, #1-4)\\n</td>\n",
       "      <td>/book/show/60924.Seed_to_Harvest</td>\n",
       "    </tr>\n",
       "    <tr>\n",
       "      <th>80</th>\n",
       "      <td>4.48 avg rating — 244 ratings</td>\n",
       "      <td>\\nscore: 1,565,\\n              and\\n17 people voted\\n               \\n              \\n</td>\n",
       "      <td>81</td>\n",
       "      <td>\\nThe One (Species Intervention #6609, #6)\\n</td>\n",
       "      <td>/book/show/18044158-the-one</td>\n",
       "    </tr>\n",
       "    <tr>\n",
       "      <th>81</th>\n",
       "      <td>3.88 avg rating — 5,588 ratings</td>\n",
       "      <td>\\nscore: 1,564,\\n              and\\n19 people voted\\n               \\n              \\n</td>\n",
       "      <td>82</td>\n",
       "      <td>\\nDarkover Landfall (Darkover, #1)\\n</td>\n",
       "      <td>/book/show/673158.Darkover_Landfall</td>\n",
       "    </tr>\n",
       "    <tr>\n",
       "      <th>82</th>\n",
       "      <td>4.19 avg rating — 367 ratings</td>\n",
       "      <td>\\nscore: 1,559,\\n              and\\n17 people voted\\n               \\n              \\n</td>\n",
       "      <td>83</td>\n",
       "      <td>\\nEcho (Species Intervention #6609, #2)\\n</td>\n",
       "      <td>/book/show/15992880-echo</td>\n",
       "    </tr>\n",
       "    <tr>\n",
       "      <th>83</th>\n",
       "      <td>4.28 avg rating — 93 ratings</td>\n",
       "      <td>\\nscore: 1,495,\\n              and\\n16 people voted\\n               \\n              \\n</td>\n",
       "      <td>84</td>\n",
       "      <td>\\nHannah's Stolen Men (The Men of Space Station One, #10)\\n</td>\n",
       "      <td>/book/show/21409707-hannah-s-stolen-men</td>\n",
       "    </tr>\n",
       "    <tr>\n",
       "      <th>84</th>\n",
       "      <td>3.99 avg rating — 366,089 ratings</td>\n",
       "      <td>\\nscore: 1,461,\\n              and\\n16 people voted\\n               \\n              \\n</td>\n",
       "      <td>85</td>\n",
       "      <td>\\nDelirium (Delirium, #1)\\n</td>\n",
       "      <td>/book/show/11614718-delirium</td>\n",
       "    </tr>\n",
       "    <tr>\n",
       "      <th>85</th>\n",
       "      <td>4.91 avg rating — 56 ratings</td>\n",
       "      <td>\\nscore: 1,458,\\n              and\\n16 people voted\\n               \\n              \\n</td>\n",
       "      <td>86</td>\n",
       "      <td>\\nA Forgotten Kitten (Sea-anan Saga, #2)\\n</td>\n",
       "      <td>/book/show/17878961-a-forgotten-kitten</td>\n",
       "    </tr>\n",
       "    <tr>\n",
       "      <th>86</th>\n",
       "      <td>3.86 avg rating — 134 ratings</td>\n",
       "      <td>\\nscore: 1,455,\\n              and\\n16 people voted\\n               \\n              \\n</td>\n",
       "      <td>87</td>\n",
       "      <td>\\nThe Ranchers' Bride (The Men of Space Station One, #2)\\n</td>\n",
       "      <td>/book/show/13376014-the-ranchers-bride</td>\n",
       "    </tr>\n",
       "    <tr>\n",
       "      <th>87</th>\n",
       "      <td>4.04 avg rating — 3,160 ratings</td>\n",
       "      <td>\\nscore: 1,420,\\n              and\\n18 people voted\\n               \\n              \\n</td>\n",
       "      <td>88</td>\n",
       "      <td>\\nRemnant Population\\n</td>\n",
       "      <td>/book/show/96284.Remnant_Population</td>\n",
       "    </tr>\n",
       "    <tr>\n",
       "      <th>88</th>\n",
       "      <td>4.01 avg rating — 4,504 ratings</td>\n",
       "      <td>\\nscore: 1,380,\\n              and\\n15 people voted\\n               \\n              \\n</td>\n",
       "      <td>89</td>\n",
       "      <td>\\nThe V Girl\\n</td>\n",
       "      <td>/book/show/25437891-the-v-girl</td>\n",
       "    </tr>\n",
       "    <tr>\n",
       "      <th>89</th>\n",
       "      <td>3.91 avg rating — 9,782 ratings</td>\n",
       "      <td>\\nscore: 1,323,\\n              and\\n18 people voted\\n               \\n              \\n</td>\n",
       "      <td>90</td>\n",
       "      <td>\\nThe Word for World is Forest\\n</td>\n",
       "      <td>/book/show/276767.The_Word_for_World_is_Forest</td>\n",
       "    </tr>\n",
       "    <tr>\n",
       "      <th>90</th>\n",
       "      <td>3.74 avg rating — 11,925 ratings</td>\n",
       "      <td>\\nscore: 1,316,\\n              and\\n15 people voted\\n               \\n              \\n</td>\n",
       "      <td>91</td>\n",
       "      <td>\\nGrimspace (Sirantha Jax, #1)\\n</td>\n",
       "      <td>/book/show/1828067.Grimspace</td>\n",
       "    </tr>\n",
       "    <tr>\n",
       "      <th>91</th>\n",
       "      <td>4.03 avg rating — 3,338 ratings</td>\n",
       "      <td>\\nscore: 1,301,\\n              and\\n16 people voted\\n               \\n              \\n</td>\n",
       "      <td>92</td>\n",
       "      <td>\\nThe Wind's Twelve Quarters\\n</td>\n",
       "      <td>/book/show/77289.The_Wind_s_Twelve_Quarters</td>\n",
       "    </tr>\n",
       "    <tr>\n",
       "      <th>92</th>\n",
       "      <td>4.05 avg rating — 57,864 ratings</td>\n",
       "      <td>\\nscore: 1,285,\\n              and\\n16 people voted\\n               \\n              \\n</td>\n",
       "      <td>93</td>\n",
       "      <td>\\nHis Majesty's Dragon (Temeraire, #1)\\n</td>\n",
       "      <td>/book/show/28876.His_Majesty_s_Dragon</td>\n",
       "    </tr>\n",
       "    <tr>\n",
       "      <th>93</th>\n",
       "      <td>3.82 avg rating — 116 ratings</td>\n",
       "      <td>\\nscore: 1,278,\\n              and\\n14 people voted\\n               \\n              \\n</td>\n",
       "      <td>94</td>\n",
       "      <td>\\nThe Carpenters' Helper (The Men of Space Station One, #5)\\n</td>\n",
       "      <td>/book/show/13518942-the-carpenters-helper</td>\n",
       "    </tr>\n",
       "    <tr>\n",
       "      <th>94</th>\n",
       "      <td>4.19 avg rating — 3,328 ratings</td>\n",
       "      <td>\\nscore: 1,240,\\n              and\\n16 people voted\\n               \\n              \\n</td>\n",
       "      <td>95</td>\n",
       "      <td>\\nInheritor (Foreigner, #3)\\n</td>\n",
       "      <td>/book/show/57015.Inheritor</td>\n",
       "    </tr>\n",
       "    <tr>\n",
       "      <th>95</th>\n",
       "      <td>4.17 avg rating — 3,717 ratings</td>\n",
       "      <td>\\nscore: 1,197,\\n              and\\n16 people voted\\n               \\n              \\n</td>\n",
       "      <td>96</td>\n",
       "      <td>\\nInvader (Foreigner, #2)\\n</td>\n",
       "      <td>/book/show/57014.Invader</td>\n",
       "    </tr>\n",
       "    <tr>\n",
       "      <th>96</th>\n",
       "      <td>3.78 avg rating — 103,428 ratings</td>\n",
       "      <td>\\nscore: 1,174,\\n              and\\n13 people voted\\n               \\n              \\n</td>\n",
       "      <td>97</td>\n",
       "      <td>\\nAcross the Universe (Across the Universe, #1)\\n</td>\n",
       "      <td>/book/show/8235178-across-the-universe</td>\n",
       "    </tr>\n",
       "    <tr>\n",
       "      <th>97</th>\n",
       "      <td>4.16 avg rating — 97 ratings</td>\n",
       "      <td>\\nscore: 1,170,\\n              and\\n13 people voted\\n               \\n              \\n</td>\n",
       "      <td>98</td>\n",
       "      <td>\\nA Lost Kitten (Sea-anan Saga, #1)\\n</td>\n",
       "      <td>/book/show/16029924-a-lost-kitten</td>\n",
       "    </tr>\n",
       "    <tr>\n",
       "      <th>98</th>\n",
       "      <td>3.85 avg rating — 111 ratings</td>\n",
       "      <td>\\nscore: 1,169,\\n              and\\n13 people voted\\n               \\n              \\n</td>\n",
       "      <td>99</td>\n",
       "      <td>\\nLove Between the Hired Hands (The Men of Space Station One, #4)\\n</td>\n",
       "      <td>/book/show/13482469-love-between-the-hired-hands</td>\n",
       "    </tr>\n",
       "    <tr>\n",
       "      <th>99</th>\n",
       "      <td>3.83 avg rating — 3,244 ratings</td>\n",
       "      <td>\\nscore: 1,155,\\n              and\\n16 people voted\\n               \\n              \\n</td>\n",
       "      <td>100</td>\n",
       "      <td>\\nAmmonite\\n</td>\n",
       "      <td>/book/show/180270.Ammonite</td>\n",
       "    </tr>\n",
       "  </tbody>\n",
       "</table>\n",
       "<p>100 rows × 5 columns</p>\n",
       "</div>"
      ],
      "text/plain": [
       "                                          full_rating  \\\n",
       "0                   4.07 avg rating — 785,502 ratings   \n",
       "1                 4.34 avg rating — 5,212,935 ratings   \n",
       "2                   3.76 avg rating — 922,308 ratings   \n",
       "3                   4.04 avg rating — 702,272 ratings   \n",
       "4                    4.06 avg rating — 77,664 ratings   \n",
       "5                 4.23 avg rating — 2,345,974 ratings   \n",
       "6                 4.30 avg rating — 2,049,239 ratings   \n",
       "7                 4.12 avg rating — 1,379,452 ratings   \n",
       "8                    4.19 avg rating — 57,605 ratings   \n",
       "9                    4.20 avg rating — 53,473 ratings   \n",
       "10  really liked it 4.00 avg rating — 176,024 ratings   \n",
       "11                4.03 avg rating — 1,932,930 ratings   \n",
       "12                3.95 avg rating — 1,355,662 ratings   \n",
       "13                   4.03 avg rating — 38,534 ratings   \n",
       "14                   4.10 avg rating — 36,316 ratings   \n",
       "15                   4.17 avg rating — 46,116 ratings   \n",
       "16                   4.12 avg rating — 22,554 ratings   \n",
       "17                   3.97 avg rating — 53,063 ratings   \n",
       "18                  4.10 avg rating — 106,206 ratings   \n",
       "19                   4.14 avg rating — 31,668 ratings   \n",
       "20                   4.13 avg rating — 26,705 ratings   \n",
       "21                   4.29 avg rating — 18,831 ratings   \n",
       "22                   4.31 avg rating — 20,045 ratings   \n",
       "23                  3.84 avg rating — 793,665 ratings   \n",
       "24                  4.06 avg rating — 979,341 ratings   \n",
       "25                   3.69 avg rating — 33,313 ratings   \n",
       "26                   4.44 avg rating — 12,743 ratings   \n",
       "27                    3.88 avg rating — 1,466 ratings   \n",
       "28                   4.08 avg rating — 16,555 ratings   \n",
       "29                   4.06 avg rating — 81,801 ratings   \n",
       "..                                                ...   \n",
       "70                      4.41 avg rating — 336 ratings   \n",
       "71                  4.02 avg rating — 206,616 ratings   \n",
       "72                      3.83 avg rating — 799 ratings   \n",
       "73                    3.55 avg rating — 4,568 ratings   \n",
       "74                      3.78 avg rating — 215 ratings   \n",
       "75                    4.01 avg rating — 8,590 ratings   \n",
       "76                      4.46 avg rating — 256 ratings   \n",
       "77                      4.18 avg rating — 748 ratings   \n",
       "78                   4.05 avg rating — 10,873 ratings   \n",
       "79                    4.32 avg rating — 3,203 ratings   \n",
       "80                      4.48 avg rating — 244 ratings   \n",
       "81                    3.88 avg rating — 5,588 ratings   \n",
       "82                      4.19 avg rating — 367 ratings   \n",
       "83                       4.28 avg rating — 93 ratings   \n",
       "84                  3.99 avg rating — 366,089 ratings   \n",
       "85                       4.91 avg rating — 56 ratings   \n",
       "86                      3.86 avg rating — 134 ratings   \n",
       "87                    4.04 avg rating — 3,160 ratings   \n",
       "88                    4.01 avg rating — 4,504 ratings   \n",
       "89                    3.91 avg rating — 9,782 ratings   \n",
       "90                   3.74 avg rating — 11,925 ratings   \n",
       "91                    4.03 avg rating — 3,338 ratings   \n",
       "92                   4.05 avg rating — 57,864 ratings   \n",
       "93                      3.82 avg rating — 116 ratings   \n",
       "94                    4.19 avg rating — 3,328 ratings   \n",
       "95                    4.17 avg rating — 3,717 ratings   \n",
       "96                  3.78 avg rating — 103,428 ratings   \n",
       "97                       4.16 avg rating — 97 ratings   \n",
       "98                      3.85 avg rating — 111 ratings   \n",
       "99                    3.83 avg rating — 3,244 ratings   \n",
       "\n",
       "                                                                                              full_score  \\\n",
       "0   \\nscore: 28,539,\\n              and\\n292 people voted\\n               \\n              \\n               \n",
       "1   \\nscore: 27,566,\\n              and\\n282 people voted\\n               \\n              \\n               \n",
       "2   \\nscore: 20,049,\\n              and\\n205 people voted\\n               \\n              \\n               \n",
       "3   \\nscore: 17,684,\\n              and\\n185 people voted\\n               \\n              \\n               \n",
       "4   \\nscore: 16,070,\\n              and\\n165 people voted\\n               \\n              \\n               \n",
       "5   \\nscore: 12,935,\\n              and\\n134 people voted\\n               \\n              \\n               \n",
       "6   \\nscore: 12,261,\\n              and\\n128 people voted\\n               \\n              \\n               \n",
       "7   \\nscore: 11,238,\\n              and\\n117 people voted\\n               \\n              \\n               \n",
       "8   \\nscore: 10,246,\\n              and\\n107 people voted\\n               \\n              \\n               \n",
       "9    \\nscore: 9,907,\\n              and\\n104 people voted\\n               \\n              \\n               \n",
       "10   \\nscore: 9,628,\\n              and\\n102 people voted\\n               \\n              \\n               \n",
       "11   \\nscore: 9,423,\\n              and\\n100 people voted\\n               \\n              \\n               \n",
       "12    \\nscore: 8,250,\\n              and\\n88 people voted\\n               \\n              \\n               \n",
       "13    \\nscore: 8,175,\\n              and\\n88 people voted\\n               \\n              \\n               \n",
       "14    \\nscore: 7,523,\\n              and\\n81 people voted\\n               \\n              \\n               \n",
       "15    \\nscore: 6,571,\\n              and\\n69 people voted\\n               \\n              \\n               \n",
       "16    \\nscore: 6,418,\\n              and\\n68 people voted\\n               \\n              \\n               \n",
       "17    \\nscore: 6,257,\\n              and\\n70 people voted\\n               \\n              \\n               \n",
       "18    \\nscore: 6,238,\\n              and\\n68 people voted\\n               \\n              \\n               \n",
       "19    \\nscore: 5,999,\\n              and\\n64 people voted\\n               \\n              \\n               \n",
       "20    \\nscore: 5,933,\\n              and\\n64 people voted\\n               \\n              \\n               \n",
       "21    \\nscore: 5,698,\\n              and\\n61 people voted\\n               \\n              \\n               \n",
       "22    \\nscore: 5,046,\\n              and\\n54 people voted\\n               \\n              \\n               \n",
       "23    \\nscore: 5,012,\\n              and\\n53 people voted\\n               \\n              \\n               \n",
       "24    \\nscore: 4,899,\\n              and\\n54 people voted\\n               \\n              \\n               \n",
       "25    \\nscore: 4,413,\\n              and\\n48 people voted\\n               \\n              \\n               \n",
       "26    \\nscore: 4,398,\\n              and\\n48 people voted\\n               \\n              \\n               \n",
       "27    \\nscore: 4,394,\\n              and\\n45 people voted\\n               \\n              \\n               \n",
       "28    \\nscore: 4,249,\\n              and\\n47 people voted\\n               \\n              \\n               \n",
       "29    \\nscore: 4,245,\\n              and\\n46 people voted\\n               \\n              \\n               \n",
       "..                                                                                                   ...   \n",
       "70    \\nscore: 1,817,\\n              and\\n19 people voted\\n               \\n              \\n               \n",
       "71    \\nscore: 1,775,\\n              and\\n20 people voted\\n               \\n              \\n               \n",
       "72    \\nscore: 1,772,\\n              and\\n19 people voted\\n               \\n              \\n               \n",
       "73    \\nscore: 1,740,\\n              and\\n22 people voted\\n               \\n              \\n               \n",
       "74    \\nscore: 1,698,\\n              and\\n17 people voted\\n               \\n              \\n               \n",
       "75    \\nscore: 1,692,\\n              and\\n22 people voted\\n               \\n              \\n               \n",
       "76    \\nscore: 1,687,\\n              and\\n18 people voted\\n               \\n              \\n               \n",
       "77    \\nscore: 1,684,\\n              and\\n18 people voted\\n               \\n              \\n               \n",
       "78    \\nscore: 1,683,\\n              and\\n24 people voted\\n               \\n              \\n               \n",
       "79    \\nscore: 1,575,\\n              and\\n19 people voted\\n               \\n              \\n               \n",
       "80    \\nscore: 1,565,\\n              and\\n17 people voted\\n               \\n              \\n               \n",
       "81    \\nscore: 1,564,\\n              and\\n19 people voted\\n               \\n              \\n               \n",
       "82    \\nscore: 1,559,\\n              and\\n17 people voted\\n               \\n              \\n               \n",
       "83    \\nscore: 1,495,\\n              and\\n16 people voted\\n               \\n              \\n               \n",
       "84    \\nscore: 1,461,\\n              and\\n16 people voted\\n               \\n              \\n               \n",
       "85    \\nscore: 1,458,\\n              and\\n16 people voted\\n               \\n              \\n               \n",
       "86    \\nscore: 1,455,\\n              and\\n16 people voted\\n               \\n              \\n               \n",
       "87    \\nscore: 1,420,\\n              and\\n18 people voted\\n               \\n              \\n               \n",
       "88    \\nscore: 1,380,\\n              and\\n15 people voted\\n               \\n              \\n               \n",
       "89    \\nscore: 1,323,\\n              and\\n18 people voted\\n               \\n              \\n               \n",
       "90    \\nscore: 1,316,\\n              and\\n15 people voted\\n               \\n              \\n               \n",
       "91    \\nscore: 1,301,\\n              and\\n16 people voted\\n               \\n              \\n               \n",
       "92    \\nscore: 1,285,\\n              and\\n16 people voted\\n               \\n              \\n               \n",
       "93    \\nscore: 1,278,\\n              and\\n14 people voted\\n               \\n              \\n               \n",
       "94    \\nscore: 1,240,\\n              and\\n16 people voted\\n               \\n              \\n               \n",
       "95    \\nscore: 1,197,\\n              and\\n16 people voted\\n               \\n              \\n               \n",
       "96    \\nscore: 1,174,\\n              and\\n13 people voted\\n               \\n              \\n               \n",
       "97    \\nscore: 1,170,\\n              and\\n13 people voted\\n               \\n              \\n               \n",
       "98    \\nscore: 1,169,\\n              and\\n13 people voted\\n               \\n              \\n               \n",
       "99    \\nscore: 1,155,\\n              and\\n16 people voted\\n               \\n              \\n               \n",
       "\n",
       "    rank                                                                title  \\\n",
       "0      1                                              \\nThe Handmaid's Tale\\n   \n",
       "1      2                          \\nThe Hunger Games (The Hunger Games, #1)\\n   \n",
       "2      3                           \\nFrankenstein, or The Modern Prometheus\\n   \n",
       "3      4                \\nA Wrinkle in Time (A Wrinkle in Time Quintet, #1)\\n   \n",
       "4      5                                        \\nThe Left Hand of Darkness\\n   \n",
       "5      6                                        \\nDivergent (Divergent, #1)\\n   \n",
       "6      7                             \\nCatching Fire (The Hunger Games, #2)\\n   \n",
       "7      8                                        \\nThe Giver (The Giver, #1)\\n   \n",
       "8      9                                                 \\nThe Dispossessed\\n   \n",
       "9     10                                                          \\nKindred\\n   \n",
       "10    11                                   \\nOryx and Crake (MaddAddam, #1)\\n   \n",
       "11    12                                \\nMockingjay (The Hunger Games, #3)\\n   \n",
       "12    13                                         \\nThe Time Traveler's Wife\\n   \n",
       "13    14                           \\nDoomsday Book (Oxford Time Travel, #1)\\n   \n",
       "14    15                                              \\nThe Lathe of Heaven\\n   \n",
       "15    16                                    \\nThe Sparrow (The Sparrow, #1)\\n   \n",
       "16    17                          \\nShards of Honour  (Vorkosigan Saga, #1)\\n   \n",
       "17    18                           \\nAncillary Justice (Imperial Radch, #1)\\n   \n",
       "18    19                          \\nDragonflight (Dragonriders of Pern, #1)\\n   \n",
       "19    20                             \\nParable of the Sower (Earthseed, #1)\\n   \n",
       "20    21               \\nTo Say Nothing of the Dog (Oxford Time Travel, #2)\\n   \n",
       "21    22                   \\nThe Warrior's Apprentice (Vorkosigan Saga, #2)\\n   \n",
       "22    23                                   \\nBarrayar (Vorkosigan Saga, #7)\\n   \n",
       "23    24                                          \\nThe Host (The Host, #1)\\n   \n",
       "24    25                                        \\nInsurgent (Divergent, #2)\\n   \n",
       "25    26                                              \\nThe Children of Men\\n   \n",
       "26    27                                    \\nMemory (Vorkosigan Saga, #10)\\n   \n",
       "27    28          \\nStarshine: Aurora Rising Book One (Aurora Rhapsody, #1)\\n   \n",
       "28    29                              \\nCrystal Singer (Crystal Singer, #1)\\n   \n",
       "29    30                           \\nThe Year of the Flood  (MaddAddam, #2)\\n   \n",
       "..   ...                                                                  ...   \n",
       "70    71                            \\nHive (Species Intervention #6609, #4)\\n   \n",
       "71    72                                                   \\nStation Eleven\\n   \n",
       "72    73                            \\nBaby (Species Intervention #6609, #1)\\n   \n",
       "73    74                                                   \\nThe Female Man\\n   \n",
       "74    75                                  \\nMachinations (Machinations, #1)\\n   \n",
       "75    76                                                \\nThe Speed of Dark\\n   \n",
       "76    77                   \\nEvil Among Us (Species Intervention #6609, #5)\\n   \n",
       "77    78                                    \\nVertigo (Aurora Rhapsody, #2)\\n   \n",
       "78    79                                  \\nCryoBurn (Vorkosigan Saga, #14)\\n   \n",
       "79    80                            \\nSeed to Harvest (Patternmaster, #1-4)\\n   \n",
       "80    81                         \\nThe One (Species Intervention #6609, #6)\\n   \n",
       "81    82                                 \\nDarkover Landfall (Darkover, #1)\\n   \n",
       "82    83                            \\nEcho (Species Intervention #6609, #2)\\n   \n",
       "83    84          \\nHannah's Stolen Men (The Men of Space Station One, #10)\\n   \n",
       "84    85                                          \\nDelirium (Delirium, #1)\\n   \n",
       "85    86                           \\nA Forgotten Kitten (Sea-anan Saga, #2)\\n   \n",
       "86    87           \\nThe Ranchers' Bride (The Men of Space Station One, #2)\\n   \n",
       "87    88                                               \\nRemnant Population\\n   \n",
       "88    89                                                       \\nThe V Girl\\n   \n",
       "89    90                                     \\nThe Word for World is Forest\\n   \n",
       "90    91                                     \\nGrimspace (Sirantha Jax, #1)\\n   \n",
       "91    92                                       \\nThe Wind's Twelve Quarters\\n   \n",
       "92    93                             \\nHis Majesty's Dragon (Temeraire, #1)\\n   \n",
       "93    94        \\nThe Carpenters' Helper (The Men of Space Station One, #5)\\n   \n",
       "94    95                                        \\nInheritor (Foreigner, #3)\\n   \n",
       "95    96                                          \\nInvader (Foreigner, #2)\\n   \n",
       "96    97                    \\nAcross the Universe (Across the Universe, #1)\\n   \n",
       "97    98                                \\nA Lost Kitten (Sea-anan Saga, #1)\\n   \n",
       "98    99  \\nLove Between the Hired Hands (The Men of Space Station One, #4)\\n   \n",
       "99   100                                                         \\nAmmonite\\n   \n",
       "\n",
       "                                                       url  \n",
       "0                     /book/show/38447.The_Handmaid_s_Tale  \n",
       "1                      /book/show/2767052-the-hunger-games  \n",
       "2   /book/show/18490.Frankenstein_or_The_Modern_Prometheus  \n",
       "3                       /book/show/18131.A_Wrinkle_in_Time  \n",
       "4               /book/show/18423.The_Left_Hand_of_Darkness  \n",
       "5                            /book/show/13335037-divergent  \n",
       "6                         /book/show/6148028-catching-fire  \n",
       "7                                /book/show/3636.The_Giver  \n",
       "8                        /book/show/13651.The_Dispossessed  \n",
       "9                                 /book/show/60931.Kindred  \n",
       "10                         /book/show/46756.Oryx_and_Crake  \n",
       "11                           /book/show/7260188-mockingjay  \n",
       "12            /book/show/18619684-the-time-traveler-s-wife  \n",
       "13                          /book/show/24983.Doomsday_Book  \n",
       "14                    /book/show/59924.The_Lathe_of_Heaven  \n",
       "15                           /book/show/334176.The_Sparrow  \n",
       "16                       /book/show/61903.Shards_of_Honour  \n",
       "17                   /book/show/17333324-ancillary-justice  \n",
       "18                           /book/show/61975.Dragonflight  \n",
       "19                   /book/show/52397.Parable_of_the_Sower  \n",
       "20              /book/show/77773.To_Say_Nothing_of_the_Dog  \n",
       "21               /book/show/61906.The_Warrior_s_Apprentice  \n",
       "22                               /book/show/61905.Barrayar  \n",
       "23                             /book/show/1656001.The_Host  \n",
       "24                           /book/show/11735983-insurgent  \n",
       "25                    /book/show/41913.The_Children_of_Men  \n",
       "26                                 /book/show/61880.Memory  \n",
       "27                           /book/show/21534331-starshine  \n",
       "28                        /book/show/653711.Crystal_Singer  \n",
       "29                /book/show/6080337-the-year-of-the-flood  \n",
       "..                                                     ...  \n",
       "70                                /book/show/17322045-hive  \n",
       "71                      /book/show/20170404-station-eleven  \n",
       "72                                /book/show/15992857-baby  \n",
       "73                        /book/show/908311.The_Female_Man  \n",
       "74                        /book/show/27876301-machinations  \n",
       "75                      /book/show/96063.The_Speed_of_Dark  \n",
       "76                       /book/show/17936909-evil-among-us  \n",
       "77                             /book/show/23150535-vertigo  \n",
       "78                             /book/show/7841670-cryoburn  \n",
       "79                        /book/show/60924.Seed_to_Harvest  \n",
       "80                             /book/show/18044158-the-one  \n",
       "81                     /book/show/673158.Darkover_Landfall  \n",
       "82                                /book/show/15992880-echo  \n",
       "83                 /book/show/21409707-hannah-s-stolen-men  \n",
       "84                            /book/show/11614718-delirium  \n",
       "85                  /book/show/17878961-a-forgotten-kitten  \n",
       "86                  /book/show/13376014-the-ranchers-bride  \n",
       "87                     /book/show/96284.Remnant_Population  \n",
       "88                          /book/show/25437891-the-v-girl  \n",
       "89          /book/show/276767.The_Word_for_World_is_Forest  \n",
       "90                            /book/show/1828067.Grimspace  \n",
       "91             /book/show/77289.The_Wind_s_Twelve_Quarters  \n",
       "92                   /book/show/28876.His_Majesty_s_Dragon  \n",
       "93               /book/show/13518942-the-carpenters-helper  \n",
       "94                              /book/show/57015.Inheritor  \n",
       "95                                /book/show/57014.Invader  \n",
       "96                  /book/show/8235178-across-the-universe  \n",
       "97                       /book/show/16029924-a-lost-kitten  \n",
       "98        /book/show/13482469-love-between-the-hired-hands  \n",
       "99                              /book/show/180270.Ammonite  \n",
       "\n",
       "[100 rows x 5 columns]"
      ]
     },
     "execution_count": 11,
     "metadata": {},
     "output_type": "execute_result"
    }
   ],
   "source": [
    "df"
   ]
  },
  {
   "cell_type": "code",
   "execution_count": 12,
   "metadata": {},
   "outputs": [
    {
     "data": {
      "text/plain": [
       "0                                  The Handmaid's Tale\n",
       "1              The Hunger Games (The Hunger Games, #1)\n",
       "2               Frankenstein, or The Modern Prometheus\n",
       "3    A Wrinkle in Time (A Wrinkle in Time Quintet, #1)\n",
       "4                            The Left Hand of Darkness\n",
       "Name: title, dtype: object"
      ]
     },
     "execution_count": 12,
     "metadata": {},
     "output_type": "execute_result"
    }
   ],
   "source": [
    "df['title'] = df['title'].str.strip(\"\\n\")\n",
    "df['title'].head()"
   ]
  },
  {
   "cell_type": "code",
   "execution_count": 13,
   "metadata": {},
   "outputs": [
    {
     "data": {
      "text/plain": [
       "0    4.07\n",
       "1    4.34\n",
       "2    3.76\n",
       "3    4.04\n",
       "4    4.06\n",
       "Name: avg_rating, dtype: float64"
      ]
     },
     "execution_count": 13,
     "metadata": {},
     "output_type": "execute_result"
    }
   ],
   "source": [
    "df['avg_rating'] = df.full_rating.str.extract(\"(\\d.\\d+)\").astype(float)\n",
    "df['avg_rating'].head()"
   ]
  },
  {
   "cell_type": "code",
   "execution_count": 14,
   "metadata": {},
   "outputs": [
    {
     "data": {
      "text/plain": [
       "0     785502.0\n",
       "1    5212935.0\n",
       "2     922308.0\n",
       "3     702272.0\n",
       "4      77664.0\n",
       "Name: rating_count, dtype: float64"
      ]
     },
     "execution_count": 14,
     "metadata": {},
     "output_type": "execute_result"
    }
   ],
   "source": [
    "df['rating_count'] = df.full_rating.str.extract(\"(\\d[^.][\\d,]+)\")\n",
    "df['rating_count'] = df['rating_count'].str.replace(\",\",\"\").astype(float)\n",
    "df['rating_count'].head()"
   ]
  },
  {
   "cell_type": "code",
   "execution_count": 15,
   "metadata": {},
   "outputs": [
    {
     "data": {
      "text/plain": [
       "0    28539\n",
       "1    27566\n",
       "2    20049\n",
       "3    17684\n",
       "4    16070\n",
       "Name: total_score, dtype: int64"
      ]
     },
     "execution_count": 15,
     "metadata": {},
     "output_type": "execute_result"
    }
   ],
   "source": [
    "df['total_score'] = df.full_score.str.extract(\"([\\d,]+\\d)\")\n",
    "df['total_score'] = df['total_score'].str.replace(\",\",\"\").astype(int)\n",
    "df['total_score'].head()"
   ]
  },
  {
   "cell_type": "code",
   "execution_count": 16,
   "metadata": {
    "scrolled": true
   },
   "outputs": [
    {
     "data": {
      "text/plain": [
       "0    292\n",
       "1    282\n",
       "2    205\n",
       "3    185\n",
       "4    165\n",
       "Name: score_votes, dtype: int64"
      ]
     },
     "execution_count": 16,
     "metadata": {},
     "output_type": "execute_result"
    }
   ],
   "source": [
    "df['score_votes'] = df.full_score.str.extract(\"(\\d+\\s)\").astype(int)\n",
    "df['score_votes'].head()"
   ]
  },
  {
   "cell_type": "code",
   "execution_count": 17,
   "metadata": {},
   "outputs": [
    {
     "data": {
      "text/plain": [
       "0                          NaN\n",
       "1             The Hunger Games\n",
       "2                          NaN\n",
       "3    A Wrinkle in Time Quintet\n",
       "4                          NaN\n",
       "Name: series, dtype: object"
      ]
     },
     "execution_count": 17,
     "metadata": {},
     "output_type": "execute_result"
    }
   ],
   "source": [
    "df['series'] = df.title.str.extract(\"[(](.*),\")\n",
    "df['series'].head()"
   ]
  },
  {
   "cell_type": "code",
   "execution_count": 18,
   "metadata": {},
   "outputs": [
    {
     "data": {
      "text/plain": [
       "0    NaN\n",
       "1      1\n",
       "2    NaN\n",
       "3      1\n",
       "4    NaN\n",
       "Name: series_no, dtype: object"
      ]
     },
     "execution_count": 18,
     "metadata": {},
     "output_type": "execute_result"
    }
   ],
   "source": [
    "df['series_no'] = df.title.str.extract(\"#(\\d-?\\d?)[)]\")\n",
    "df['series_no'].head()"
   ]
  },
  {
   "cell_type": "code",
   "execution_count": 19,
   "metadata": {},
   "outputs": [
    {
     "data": {
      "text/html": [
       "<div>\n",
       "<style scoped>\n",
       "    .dataframe tbody tr th:only-of-type {\n",
       "        vertical-align: middle;\n",
       "    }\n",
       "\n",
       "    .dataframe tbody tr th {\n",
       "        vertical-align: top;\n",
       "    }\n",
       "\n",
       "    .dataframe thead th {\n",
       "        text-align: right;\n",
       "    }\n",
       "</style>\n",
       "<table border=\"1\" class=\"dataframe\">\n",
       "  <thead>\n",
       "    <tr style=\"text-align: right;\">\n",
       "      <th></th>\n",
       "      <th>full_rating</th>\n",
       "      <th>full_score</th>\n",
       "      <th>rank</th>\n",
       "      <th>title</th>\n",
       "      <th>url</th>\n",
       "      <th>avg_rating</th>\n",
       "      <th>rating_count</th>\n",
       "      <th>total_score</th>\n",
       "      <th>score_votes</th>\n",
       "      <th>series</th>\n",
       "      <th>series_no</th>\n",
       "    </tr>\n",
       "  </thead>\n",
       "  <tbody>\n",
       "    <tr>\n",
       "      <th>0</th>\n",
       "      <td>4.07 avg rating — 785,502 ratings</td>\n",
       "      <td>\\nscore: 28,539,\\n              and\\n292 people voted\\n               \\n              \\n</td>\n",
       "      <td>1</td>\n",
       "      <td>The Handmaid's Tale</td>\n",
       "      <td>/book/show/38447.The_Handmaid_s_Tale</td>\n",
       "      <td>4.07</td>\n",
       "      <td>785502.0</td>\n",
       "      <td>28539</td>\n",
       "      <td>292</td>\n",
       "      <td>NaN</td>\n",
       "      <td>NaN</td>\n",
       "    </tr>\n",
       "    <tr>\n",
       "      <th>1</th>\n",
       "      <td>4.34 avg rating — 5,212,935 ratings</td>\n",
       "      <td>\\nscore: 27,566,\\n              and\\n282 people voted\\n               \\n              \\n</td>\n",
       "      <td>2</td>\n",
       "      <td>The Hunger Games (The Hunger Games, #1)</td>\n",
       "      <td>/book/show/2767052-the-hunger-games</td>\n",
       "      <td>4.34</td>\n",
       "      <td>5212935.0</td>\n",
       "      <td>27566</td>\n",
       "      <td>282</td>\n",
       "      <td>The Hunger Games</td>\n",
       "      <td>1</td>\n",
       "    </tr>\n",
       "    <tr>\n",
       "      <th>2</th>\n",
       "      <td>3.76 avg rating — 922,308 ratings</td>\n",
       "      <td>\\nscore: 20,049,\\n              and\\n205 people voted\\n               \\n              \\n</td>\n",
       "      <td>3</td>\n",
       "      <td>Frankenstein, or The Modern Prometheus</td>\n",
       "      <td>/book/show/18490.Frankenstein_or_The_Modern_Prometheus</td>\n",
       "      <td>3.76</td>\n",
       "      <td>922308.0</td>\n",
       "      <td>20049</td>\n",
       "      <td>205</td>\n",
       "      <td>NaN</td>\n",
       "      <td>NaN</td>\n",
       "    </tr>\n",
       "    <tr>\n",
       "      <th>3</th>\n",
       "      <td>4.04 avg rating — 702,272 ratings</td>\n",
       "      <td>\\nscore: 17,684,\\n              and\\n185 people voted\\n               \\n              \\n</td>\n",
       "      <td>4</td>\n",
       "      <td>A Wrinkle in Time (A Wrinkle in Time Quintet, #1)</td>\n",
       "      <td>/book/show/18131.A_Wrinkle_in_Time</td>\n",
       "      <td>4.04</td>\n",
       "      <td>702272.0</td>\n",
       "      <td>17684</td>\n",
       "      <td>185</td>\n",
       "      <td>A Wrinkle in Time Quintet</td>\n",
       "      <td>1</td>\n",
       "    </tr>\n",
       "    <tr>\n",
       "      <th>4</th>\n",
       "      <td>4.06 avg rating — 77,664 ratings</td>\n",
       "      <td>\\nscore: 16,070,\\n              and\\n165 people voted\\n               \\n              \\n</td>\n",
       "      <td>5</td>\n",
       "      <td>The Left Hand of Darkness</td>\n",
       "      <td>/book/show/18423.The_Left_Hand_of_Darkness</td>\n",
       "      <td>4.06</td>\n",
       "      <td>77664.0</td>\n",
       "      <td>16070</td>\n",
       "      <td>165</td>\n",
       "      <td>NaN</td>\n",
       "      <td>NaN</td>\n",
       "    </tr>\n",
       "  </tbody>\n",
       "</table>\n",
       "</div>"
      ],
      "text/plain": [
       "                            full_rating  \\\n",
       "0     4.07 avg rating — 785,502 ratings   \n",
       "1   4.34 avg rating — 5,212,935 ratings   \n",
       "2     3.76 avg rating — 922,308 ratings   \n",
       "3     4.04 avg rating — 702,272 ratings   \n",
       "4      4.06 avg rating — 77,664 ratings   \n",
       "\n",
       "                                                                                             full_score  \\\n",
       "0  \\nscore: 28,539,\\n              and\\n292 people voted\\n               \\n              \\n               \n",
       "1  \\nscore: 27,566,\\n              and\\n282 people voted\\n               \\n              \\n               \n",
       "2  \\nscore: 20,049,\\n              and\\n205 people voted\\n               \\n              \\n               \n",
       "3  \\nscore: 17,684,\\n              and\\n185 people voted\\n               \\n              \\n               \n",
       "4  \\nscore: 16,070,\\n              and\\n165 people voted\\n               \\n              \\n               \n",
       "\n",
       "   rank                                              title  \\\n",
       "0     1                                The Handmaid's Tale   \n",
       "1     2            The Hunger Games (The Hunger Games, #1)   \n",
       "2     3             Frankenstein, or The Modern Prometheus   \n",
       "3     4  A Wrinkle in Time (A Wrinkle in Time Quintet, #1)   \n",
       "4     5                          The Left Hand of Darkness   \n",
       "\n",
       "                                                      url  avg_rating  \\\n",
       "0                    /book/show/38447.The_Handmaid_s_Tale        4.07   \n",
       "1                     /book/show/2767052-the-hunger-games        4.34   \n",
       "2  /book/show/18490.Frankenstein_or_The_Modern_Prometheus        3.76   \n",
       "3                      /book/show/18131.A_Wrinkle_in_Time        4.04   \n",
       "4              /book/show/18423.The_Left_Hand_of_Darkness        4.06   \n",
       "\n",
       "   rating_count  total_score  score_votes                     series series_no  \n",
       "0      785502.0        28539          292                        NaN       NaN  \n",
       "1     5212935.0        27566          282           The Hunger Games         1  \n",
       "2      922308.0        20049          205                        NaN       NaN  \n",
       "3      702272.0        17684          185  A Wrinkle in Time Quintet         1  \n",
       "4       77664.0        16070          165                        NaN       NaN  "
      ]
     },
     "execution_count": 19,
     "metadata": {},
     "output_type": "execute_result"
    }
   ],
   "source": [
    "df.head()"
   ]
  },
  {
   "cell_type": "code",
   "execution_count": 20,
   "metadata": {},
   "outputs": [],
   "source": [
    "df.to_csv('sci-fi_cleaned.csv', index=False)"
   ]
  },
  {
   "cell_type": "markdown",
   "metadata": {},
   "source": [
    "## 1.3 Where you're just doing one of my former students' projects\n",
    "\n",
    "Once upon a time my student Stefan did a project that involved some lawyer stuff. Most of the content was in PDFs, though! I converted them to text files and put them into the `pdfs` folder, and gave you code below to open up each of them and save their contents into a dataframe.\n",
    "\n",
    "What a nice dataframe! I want you to add the following columns to it:\n",
    "\n",
    "* `lawyer_app`, the applicant's lawyer (pro se means that they did it themselves, that's fine)\n",
    "* `lawyer_gov`, the government's lawyer\n",
    "* `judge`, the name of the judge\n",
    "* `access`, whether the clearance is granted or denied (although you might miss a few)\n",
    "\n",
    "Save as **court_cleaned.csv**.\n",
    "\n",
    "**Note:** You can look at the original PDFs, they're also included.\n",
    "\n",
    "**Note:** This uses a fun utility called `glob`, which is mostly fun because you use it as `glob.glob`. It's used to find files that match a certain filename pattern.\n",
    "\n",
    "**BONUS:** You'll be happy once you get the judge, but make sure it doesn't have any extra punctuation on it.\n",
    "\n",
    "**BONUS:** You can for some words using `.str.contains(\"blah\")` and save it into new columns. Maybe `has_debt`, `has_bankruptcy`, etc.\n",
    "\n",
    "> It's okay if it isn't perfect. Converting PDF into data rarely is! Usually you get 90% of it done with computers, then send people to enter the other 10% by hand."
   ]
  },
  {
   "cell_type": "code",
   "execution_count": 21,
   "metadata": {},
   "outputs": [],
   "source": [
    "import glob\n",
    "filenames = glob.glob(\"pdfs/*.txt\")\n",
    "contents = [open(filename, encoding=\"utf8\").read() for filename in filenames]\n",
    "df = pd.DataFrame({'filename': filenames, 'content': contents})"
   ]
  },
  {
   "cell_type": "code",
   "execution_count": 22,
   "metadata": {},
   "outputs": [
    {
     "data": {
      "text/html": [
       "<div>\n",
       "<style scoped>\n",
       "    .dataframe tbody tr th:only-of-type {\n",
       "        vertical-align: middle;\n",
       "    }\n",
       "\n",
       "    .dataframe tbody tr th {\n",
       "        vertical-align: top;\n",
       "    }\n",
       "\n",
       "    .dataframe thead th {\n",
       "        text-align: right;\n",
       "    }\n",
       "</style>\n",
       "<table border=\"1\" class=\"dataframe\">\n",
       "  <thead>\n",
       "    <tr style=\"text-align: right;\">\n",
       "      <th></th>\n",
       "      <th>filename</th>\n",
       "      <th>content</th>\n",
       "    </tr>\n",
       "  </thead>\n",
       "  <tbody>\n",
       "    <tr>\n",
       "      <th>0</th>\n",
       "      <td>pdfs/11-11916.h1.pdf.txt</td>\n",
       "      <td>\\n\\nDEPARTMENT OF DEFENSE \\n\\nDEFENSE OFFICE OF HEARINGS AND APPEALS \\n\\n           \\n             \\n\\n \\n \\nIn the matter of: \\n \\n \\n \\nApplicant for Security Clearance \\n\\nREDACTED \\n\\n \\n\\nISCR Case No. 11-11916 \\n\\nMENDEZ, Francisco, Administrative Judge: \\n\\n \\nApplicant  did  not  mitigate  security  concerns  raised  by  his  exercise  of  foreign \\ncitizenship,  including  the  possession  of  a  current  foreign  passpor...</td>\n",
       "    </tr>\n",
       "    <tr>\n",
       "      <th>1</th>\n",
       "      <td>pdfs/12-01601.a1.pdf.txt</td>\n",
       "      <td>KEYWORD: Guideline F\\n\\nDIGEST: Most of the document Applicant submitted on appeal were not previously submitted to\\nthe Judge and the Board is prohibited from receiving or considering them.  Adverse decision\\naffirmed.\\n\\nCASENO: 12-01601.a1\\n\\nDATE: 09/23/2016\\n\\nIn Re:\\n\\n-------\\n\\nApplicant for Security Clearance\\n\\nDATE: September 23, 2016\\n\\nISCR Case No. 12-01601\\n\\n)\\n)\\n)\\n)\\n)\\n)\\n)\\n)\\n\\nAPPEAL BOARD DECISION\\n\\nAPPEARANCES\\n\\nFOR GOVERNMENT\\n\\nJames B. Norman, Esq., Chief Depart...</td>\n",
       "    </tr>\n",
       "    <tr>\n",
       "      <th>2</th>\n",
       "      <td>pdfs/11-03073.h1.pdf.txt</td>\n",
       "      <td>\\n\\n                        DEPARTMENT OF DEFENSE \\n\\n         DEFENSE OFFICE OF HEARINGS AND APPEALS \\n\\n \\n \\nIn the matter of: \\n \\n \\n \\nApplicant for Security Clearance \\n\\n \\n\\n \\n\\nISCR Case No. 11-03073 \\n\\n           \\n             \\n\\n) \\n) \\n) \\n) \\n) \\n \\n \\n\\n \\n \\n\\nAppearances \\n\\n______________ \\n\\n \\nDecision \\n\\n______________ \\n\\n \\n\\n \\n\\n \\n\\n \\n \\n\\nFor Government: Robert J. Kilmartin, Esq., Department Counse...</td>\n",
       "    </tr>\n",
       "    <tr>\n",
       "      <th>3</th>\n",
       "      <td>pdfs/11-04909.h1.pdf.txt</td>\n",
       "      <td>\\n\\n            DEFENSE OFFICE OF HEARINGS AND APPEALS \\n\\n    DEPARTMENT OF DEFENSE \\n\\n          \\n             \\n\\n \\n\\n \\nIn the matter of: \\n \\n \\n \\nApplicant for Security Clearance \\n\\n \\n \\n\\n \\n\\nISCR Case No. 11-04909 \\n\\n \\n\\nFor Government: Richard Stevens, Esq., Department Counsel \\n\\nFor Applicant: Pro se \\n\\n \\n\\n \\nDUFFY, James F., Administrative Judge: \\n\\n \\nApplicant  mitigated \\n\\nconsiderations). Clearance is ...</td>\n",
       "    </tr>\n",
       "    <tr>\n",
       "      <th>4</th>\n",
       "      <td>pdfs/11-08313.h1.pdf.txt</td>\n",
       "      <td>\\n\\n                           DEPARTMENT OF DEFENSE \\n         DEFENSE OFFICE OF HEARINGS AND APPEALS \\n\\n \\n\\nISCR Case No. 11-08313 \\n\\n \\nIn the matter of: \\n \\n \\n \\nApplicant for Security Clearance \\n\\n--------------- \\n \\n\\n \\n\\n           \\n             \\n\\n) \\n) \\n) \\n) \\n) \\n \\n\\n \\n \\n\\nAppearances \\n\\n______________ \\n\\n \\nDecision \\n\\n______________ \\n\\nFor Government: Julie R. Mendez, Esquire, Department Counsel \\n\\nFo...</td>\n",
       "    </tr>\n",
       "  </tbody>\n",
       "</table>\n",
       "</div>"
      ],
      "text/plain": [
       "                   filename  \\\n",
       "0  pdfs/11-11916.h1.pdf.txt   \n",
       "1  pdfs/12-01601.a1.pdf.txt   \n",
       "2  pdfs/11-03073.h1.pdf.txt   \n",
       "3  pdfs/11-04909.h1.pdf.txt   \n",
       "4  pdfs/11-08313.h1.pdf.txt   \n",
       "\n",
       "                                                                                                                                                                                                                                                                                                                                                                                                                                                                                                               content  \n",
       "0                                                                \\n\\nDEPARTMENT OF DEFENSE \\n\\nDEFENSE OFFICE OF HEARINGS AND APPEALS \\n\\n           \\n             \\n\\n \\n \\nIn the matter of: \\n \\n \\n \\nApplicant for Security Clearance \\n\\nREDACTED \\n\\n \\n\\nISCR Case No. 11-11916 \\n\\nMENDEZ, Francisco, Administrative Judge: \\n\\n \\nApplicant  did  not  mitigate  security  concerns  raised  by  his  exercise  of  foreign \\ncitizenship,  including  the  possession  of  a  current  foreign  passpor...  \n",
       "1  KEYWORD: Guideline F\\n\\nDIGEST: Most of the document Applicant submitted on appeal were not previously submitted to\\nthe Judge and the Board is prohibited from receiving or considering them.  Adverse decision\\naffirmed.\\n\\nCASENO: 12-01601.a1\\n\\nDATE: 09/23/2016\\n\\nIn Re:\\n\\n-------\\n\\nApplicant for Security Clearance\\n\\nDATE: September 23, 2016\\n\\nISCR Case No. 12-01601\\n\\n)\\n)\\n)\\n)\\n)\\n)\\n)\\n)\\n\\nAPPEAL BOARD DECISION\\n\\nAPPEARANCES\\n\\nFOR GOVERNMENT\\n\\nJames B. Norman, Esq., Chief Depart...  \n",
       "2                                                                \\n\\n                        DEPARTMENT OF DEFENSE \\n\\n         DEFENSE OFFICE OF HEARINGS AND APPEALS \\n\\n \\n \\nIn the matter of: \\n \\n \\n \\nApplicant for Security Clearance \\n\\n \\n\\n \\n\\nISCR Case No. 11-03073 \\n\\n           \\n             \\n\\n) \\n) \\n) \\n) \\n) \\n \\n \\n\\n \\n \\n\\nAppearances \\n\\n______________ \\n\\n \\nDecision \\n\\n______________ \\n\\n \\n\\n \\n\\n \\n\\n \\n \\n\\nFor Government: Robert J. Kilmartin, Esq., Department Counse...  \n",
       "3                                                                \\n\\n            DEFENSE OFFICE OF HEARINGS AND APPEALS \\n\\n    DEPARTMENT OF DEFENSE \\n\\n          \\n             \\n\\n \\n\\n \\nIn the matter of: \\n \\n \\n \\nApplicant for Security Clearance \\n\\n \\n \\n\\n \\n\\nISCR Case No. 11-04909 \\n\\n \\n\\nFor Government: Richard Stevens, Esq., Department Counsel \\n\\nFor Applicant: Pro se \\n\\n \\n\\n \\nDUFFY, James F., Administrative Judge: \\n\\n \\nApplicant  mitigated \\n\\nconsiderations). Clearance is ...  \n",
       "4                                                              \\n\\n                           DEPARTMENT OF DEFENSE \\n         DEFENSE OFFICE OF HEARINGS AND APPEALS \\n\\n \\n\\nISCR Case No. 11-08313 \\n\\n \\nIn the matter of: \\n \\n \\n \\nApplicant for Security Clearance \\n\\n--------------- \\n \\n\\n \\n\\n           \\n             \\n\\n) \\n) \\n) \\n) \\n) \\n \\n\\n \\n \\n\\nAppearances \\n\\n______________ \\n\\n \\nDecision \\n\\n______________ \\n\\nFor Government: Julie R. Mendez, Esquire, Department Counsel \\n\\nFo...  "
      ]
     },
     "execution_count": 22,
     "metadata": {},
     "output_type": "execute_result"
    }
   ],
   "source": [
    "df.head()"
   ]
  },
  {
   "cell_type": "markdown",
   "metadata": {
    "collapsed": true
   },
   "source": [
    "Okay, now do the work and **make those new columns!**"
   ]
  },
  {
   "cell_type": "code",
   "execution_count": 23,
   "metadata": {},
   "outputs": [
    {
     "data": {
      "text/plain": [
       "0          David F. Hayes\n",
       "1                     NaN\n",
       "2     Robert J. Kilmartin\n",
       "3         Richard Stevens\n",
       "4         Julie R. Mendez\n",
       "5          David F. Hayes\n",
       "6       Stephanie C. Hess\n",
       "7            Tara Karoian\n",
       "8         Richard Stevens\n",
       "9        Robert Kilmartin\n",
       "10         Eric Borgstrom\n",
       "11                    NaN\n",
       "12          Tovah Minster\n",
       "13        Julie R. Mendez\n",
       "14          Erin Thompson\n",
       "Name: lawyer_gov, dtype: object"
      ]
     },
     "execution_count": 23,
     "metadata": {},
     "output_type": "execute_result"
    }
   ],
   "source": [
    "df['lawyer_gov'] = df.content.str.extract(\"For Government: ([\\w\\s.]+)\")\n",
    "df['lawyer_gov']"
   ]
  },
  {
   "cell_type": "code",
   "execution_count": 24,
   "metadata": {
    "scrolled": false
   },
   "outputs": [
    {
     "data": {
      "text/html": [
       "<div>\n",
       "<style scoped>\n",
       "    .dataframe tbody tr th:only-of-type {\n",
       "        vertical-align: middle;\n",
       "    }\n",
       "\n",
       "    .dataframe tbody tr th {\n",
       "        vertical-align: top;\n",
       "    }\n",
       "\n",
       "    .dataframe thead th {\n",
       "        text-align: right;\n",
       "    }\n",
       "</style>\n",
       "<table border=\"1\" class=\"dataframe\">\n",
       "  <thead>\n",
       "    <tr style=\"text-align: right;\">\n",
       "      <th></th>\n",
       "      <th>0</th>\n",
       "    </tr>\n",
       "  </thead>\n",
       "  <tbody>\n",
       "    <tr>\n",
       "      <th>0</th>\n",
       "      <td>Pro se \\n\\nAppearances \\n\\n______________ \\n\\n \\nDecision \\n\\n______________ \\n\\n \\n\\n \\n \\n\\n)</td>\n",
       "    </tr>\n",
       "    <tr>\n",
       "      <th>1</th>\n",
       "      <td>NaN</td>\n",
       "    </tr>\n",
       "    <tr>\n",
       "      <th>2</th>\n",
       "      <td>Mark S. Zaid</td>\n",
       "    </tr>\n",
       "    <tr>\n",
       "      <th>3</th>\n",
       "      <td>Pro se \\n\\n \\n\\n \\nDUFFY</td>\n",
       "    </tr>\n",
       "    <tr>\n",
       "      <th>4</th>\n",
       "      <td>Pro se \\n\\n \\n \\n\\n \\n\\nMARSHALL</td>\n",
       "    </tr>\n",
       "    <tr>\n",
       "      <th>5</th>\n",
       "      <td>Pro se \\n\\n \\n \\n\\n______________ \\n\\n \\n\\nDecision \\n\\n______________ \\n\\n \\n\\n \\n\\n \\n \\n\\nHOWE</td>\n",
       "    </tr>\n",
       "    <tr>\n",
       "      <th>6</th>\n",
       "      <td>Pro se \\n\\nAppearances \\n\\n______________ \\n\\n \\nDecision \\n\\n______________ \\n\\n \\n\\n \\n\\n \\n\\n \\n \\n\\n \\n\\nCOACHER</td>\n",
       "    </tr>\n",
       "    <tr>\n",
       "      <th>7</th>\n",
       "      <td>Pro se \\n\\n \\n\\n \\n\\n)</td>\n",
       "    </tr>\n",
       "    <tr>\n",
       "      <th>8</th>\n",
       "      <td>Ryan C. Nerney</td>\n",
       "    </tr>\n",
       "    <tr>\n",
       "      <th>9</th>\n",
       "      <td>Pro Se \\n\\n \\n\\nApril 28</td>\n",
       "    </tr>\n",
       "    <tr>\n",
       "      <th>10</th>\n",
       "      <td>Pro se \\n\\n \\n\\n______________ \\n\\n \\n\\nDecision \\n\\n______________ \\n\\n \\n\\n \\n\\n \\n \\n\\nHOGAN</td>\n",
       "    </tr>\n",
       "    <tr>\n",
       "      <th>11</th>\n",
       "      <td>NaN</td>\n",
       "    </tr>\n",
       "    <tr>\n",
       "      <th>12</th>\n",
       "      <td>Pro se\\n\\nJune 27</td>\n",
       "    </tr>\n",
       "    <tr>\n",
       "      <th>13</th>\n",
       "      <td>Mark S. Zaid</td>\n",
       "    </tr>\n",
       "    <tr>\n",
       "      <th>14</th>\n",
       "      <td>Stephen Glassman</td>\n",
       "    </tr>\n",
       "  </tbody>\n",
       "</table>\n",
       "</div>"
      ],
      "text/plain": [
       "                                                                                                                       0\n",
       "0                        Pro se \\n\\nAppearances \\n\\n______________ \\n\\n \\nDecision \\n\\n______________ \\n\\n \\n\\n \\n \\n\\n)\n",
       "1                                                                                                                    NaN\n",
       "2                                                                                                           Mark S. Zaid\n",
       "3                                                                                               Pro se \\n\\n \\n\\n \\nDUFFY\n",
       "4                                                                                       Pro se \\n\\n \\n \\n\\n \\n\\nMARSHALL\n",
       "5                      Pro se \\n\\n \\n \\n\\n______________ \\n\\n \\n\\nDecision \\n\\n______________ \\n\\n \\n\\n \\n\\n \\n \\n\\nHOWE\n",
       "6   Pro se \\n\\nAppearances \\n\\n______________ \\n\\n \\nDecision \\n\\n______________ \\n\\n \\n\\n \\n\\n \\n\\n \\n \\n\\n \\n\\nCOACHER\n",
       "7                                                                                                 Pro se \\n\\n \\n\\n \\n\\n)\n",
       "8                                                                                                         Ryan C. Nerney\n",
       "9                                                                                               Pro Se \\n\\n \\n\\nApril 28\n",
       "10                       Pro se \\n\\n \\n\\n______________ \\n\\n \\n\\nDecision \\n\\n______________ \\n\\n \\n\\n \\n\\n \\n \\n\\nHOGAN\n",
       "11                                                                                                                   NaN\n",
       "12                                                                                                     Pro se\\n\\nJune 27\n",
       "13                                                                                                          Mark S. Zaid\n",
       "14                                                                                                      Stephen Glassman"
      ]
     },
     "execution_count": 24,
     "metadata": {},
     "output_type": "execute_result"
    }
   ],
   "source": [
    "#df['lawyer_app'] = \n",
    "df.content.str.extract(\"For Applicant: ([\\w\\s.]+[^\\n,])\")"
   ]
  },
  {
   "cell_type": "code",
   "execution_count": 25,
   "metadata": {},
   "outputs": [
    {
     "data": {
      "text/plain": [
       "0          MENDEZ, Francisco\n",
       "1                        NaN\n",
       "2        LOUGHRAN, Edward W.\n",
       "3            DUFFY, James F.\n",
       "4                        NaN\n",
       "5            HOWE, Philip S.\n",
       "6         COACHER, Robert E.\n",
       "7            DUFFY, James F.\n",
       "8     GALES, Robert Robinson\n",
       "9     GOLDSTEIN, Jennifer I.\n",
       "10            HOGAN, Erin C.\n",
       "11                       NaN\n",
       "12          MOGUL, Martin H.\n",
       "13              HARVEY, Mark\n",
       "14                       NaN\n",
       "Name: judge, dtype: object"
      ]
     },
     "execution_count": 25,
     "metadata": {},
     "output_type": "execute_result"
    }
   ],
   "source": [
    "df['judge'] = df.content.str.extract(\"\\n([A-Z]+,[\\w\\s.]+), Administrative Judge:\")\n",
    "df['judge']"
   ]
  },
  {
   "cell_type": "code",
   "execution_count": 26,
   "metadata": {},
   "outputs": [
    {
     "data": {
      "text/plain": [
       "0         NaN\n",
       "1         NaN\n",
       "2     granted\n",
       "3         NaN\n",
       "4      denied\n",
       "5      denied\n",
       "6      denied\n",
       "7      denied\n",
       "8     granted\n",
       "9      denied\n",
       "10    granted\n",
       "11        NaN\n",
       "12     denied\n",
       "13    granted\n",
       "14    granted\n",
       "Name: access, dtype: object"
      ]
     },
     "execution_count": 26,
     "metadata": {},
     "output_type": "execute_result"
    }
   ],
   "source": [
    "df['access'] = df.content.str.extract(\"access to classified information is (\\w+)\")\n",
    "df['access']"
   ]
  },
  {
   "cell_type": "markdown",
   "metadata": {},
   "source": [
    "# Reading books\n",
    "\n",
    "When you're doing text work, you're legally obligated work on Jane Austen's Pride and Prejudice (at least I *think* so). Let's do some naive analysis of it!\n",
    "\n",
    "## Read in Jane Austen's Pride and Prejudice (without moving the file!)\n",
    "\n",
    "It's in the `data/` directory, and named `Austen_Pride.txt`."
   ]
  },
  {
   "cell_type": "code",
   "execution_count": 27,
   "metadata": {},
   "outputs": [],
   "source": [
    "f = open('data/Austen_Pride.txt')\n",
    "text = f.read()"
   ]
  },
  {
   "cell_type": "markdown",
   "metadata": {},
   "source": [
    "## Look at the first 500 or so characters of it "
   ]
  },
  {
   "cell_type": "code",
   "execution_count": 28,
   "metadata": {},
   "outputs": [
    {
     "data": {
      "text/plain": [
       "' Pride and Prejudice\\nby Jane Austen\\nChapter 1\\nIt is a truth universally acknowledged, that a single man in possession of a good fortune, must be in want of a wife.\\nHowever little known the feelings or views of such a man may be on his first entering a neighbourhood, this truth is so well fixed in the minds of the surrounding families, that he is considered the rightful property of some one or other of their daughters.\\n\"My dear Mr. Bennet,\" said his lady to him one day, \"have you heard that Nethe'"
      ]
     },
     "execution_count": 28,
     "metadata": {},
     "output_type": "execute_result"
    }
   ],
   "source": [
    "text[:500]"
   ]
  },
  {
   "cell_type": "markdown",
   "metadata": {},
   "source": [
    "## Use a regular expression to find every \"he\" or \"she\" in the book. There should be about 3000 of them.\n",
    "\n",
    "**Tip:** Do you know about **word boundaries?** `\\b` means \"the beginning of end of a word.\"\n",
    "\n",
    "**Tip:** You might also want to use `re.IGNORECASE`. Maybe you'll need to google it? \n",
    "\n",
    "**Tip:** Do NOT use `re.compile`"
   ]
  },
  {
   "cell_type": "code",
   "execution_count": 29,
   "metadata": {},
   "outputs": [
    {
     "data": {
      "text/plain": [
       "3047"
      ]
     },
     "execution_count": 29,
     "metadata": {},
     "output_type": "execute_result"
    }
   ],
   "source": [
    "pronouns = re.findall(r\"\\bs*he\\b\", text, re.IGNORECASE)\n",
    "len(pronouns)"
   ]
  },
  {
   "cell_type": "markdown",
   "metadata": {},
   "source": [
    "## Use a regular expression to find those same \"he\" or \"she\"s, but also match *the word after it*\n",
    "\n",
    "The first four should be:\n",
    "\n",
    "* he is\n",
    "* he had\n",
    "* she told\n",
    "* he came"
   ]
  },
  {
   "cell_type": "code",
   "execution_count": 30,
   "metadata": {},
   "outputs": [
    {
     "data": {
      "text/plain": [
       "['he is', 'he had', 'she told', 'he came']"
      ]
     },
     "execution_count": 30,
     "metadata": {},
     "output_type": "execute_result"
    }
   ],
   "source": [
    "match = re.findall(r\"(\\bs*he\\s\\w+\\b)\", text, re.IGNORECASE)\n",
    "match[:4]"
   ]
  },
  {
   "cell_type": "markdown",
   "metadata": {},
   "source": [
    "## Use capture groups to save the pronoun (he/she) as one match and the word as another\n",
    "\n",
    "The first five should look like\n",
    "\n",
    "```\n",
    "[('he', 'is'),\n",
    " ('he', 'had'),\n",
    " ('she', 'told'),\n",
    " ('he', 'came'),\n",
    " ('he', 'agreed')]```"
   ]
  },
  {
   "cell_type": "code",
   "execution_count": 31,
   "metadata": {},
   "outputs": [
    {
     "data": {
      "text/plain": [
       "[('he', 'is'),\n",
       " ('he', 'had'),\n",
       " ('she', 'told'),\n",
       " ('he', 'came'),\n",
       " ('he', 'agreed')]"
      ]
     },
     "execution_count": 31,
     "metadata": {},
     "output_type": "execute_result"
    }
   ],
   "source": [
    "match = re.findall(r\"(\\bs*he\\b) (\\b\\w+\\b)\", text, re.IGNORECASE)\n",
    "match[:5]"
   ]
  },
  {
   "cell_type": "markdown",
   "metadata": {},
   "source": [
    "## Save those matches into a dataframe\n",
    "\n",
    "You can give the column names with `columns=['pronoun', 'verb']`"
   ]
  },
  {
   "cell_type": "code",
   "execution_count": 32,
   "metadata": {},
   "outputs": [
    {
     "data": {
      "text/html": [
       "<div>\n",
       "<style scoped>\n",
       "    .dataframe tbody tr th:only-of-type {\n",
       "        vertical-align: middle;\n",
       "    }\n",
       "\n",
       "    .dataframe tbody tr th {\n",
       "        vertical-align: top;\n",
       "    }\n",
       "\n",
       "    .dataframe thead th {\n",
       "        text-align: right;\n",
       "    }\n",
       "</style>\n",
       "<table border=\"1\" class=\"dataframe\">\n",
       "  <thead>\n",
       "    <tr style=\"text-align: right;\">\n",
       "      <th></th>\n",
       "      <th>pronoun</th>\n",
       "      <th>verb</th>\n",
       "    </tr>\n",
       "  </thead>\n",
       "  <tbody>\n",
       "    <tr>\n",
       "      <th>0</th>\n",
       "      <td>he</td>\n",
       "      <td>is</td>\n",
       "    </tr>\n",
       "    <tr>\n",
       "      <th>1</th>\n",
       "      <td>he</td>\n",
       "      <td>had</td>\n",
       "    </tr>\n",
       "    <tr>\n",
       "      <th>2</th>\n",
       "      <td>she</td>\n",
       "      <td>told</td>\n",
       "    </tr>\n",
       "    <tr>\n",
       "      <th>3</th>\n",
       "      <td>he</td>\n",
       "      <td>came</td>\n",
       "    </tr>\n",
       "    <tr>\n",
       "      <th>4</th>\n",
       "      <td>he</td>\n",
       "      <td>agreed</td>\n",
       "    </tr>\n",
       "  </tbody>\n",
       "</table>\n",
       "</div>"
      ],
      "text/plain": [
       "  pronoun    verb\n",
       "0      he      is\n",
       "1      he     had\n",
       "2     she    told\n",
       "3      he    came\n",
       "4      he  agreed"
      ]
     },
     "execution_count": 32,
     "metadata": {},
     "output_type": "execute_result"
    }
   ],
   "source": [
    "import pandas as pd\n",
    "df = pd.DataFrame(match, columns=['pronoun', 'verb'])\n",
    "df.head()"
   ]
  },
  {
   "cell_type": "markdown",
   "metadata": {},
   "source": [
    "## How many times is each pronoun used?"
   ]
  },
  {
   "cell_type": "code",
   "execution_count": 33,
   "metadata": {},
   "outputs": [
    {
     "data": {
      "text/plain": [
       "she    1322\n",
       "he     1054\n",
       "She     325\n",
       "He      234\n",
       "Name: pronoun, dtype: int64"
      ]
     },
     "execution_count": 33,
     "metadata": {},
     "output_type": "execute_result"
    }
   ],
   "source": [
    "df.pronoun.value_counts()"
   ]
  },
  {
   "cell_type": "markdown",
   "metadata": {},
   "source": [
    "## Oh, wait, clean that up.\n",
    "\n",
    "Make it only 'he' and 'she' lowercase.\n",
    "\n",
    "It should be about 1600 'she' and 1300 'he'"
   ]
  },
  {
   "cell_type": "code",
   "execution_count": 34,
   "metadata": {},
   "outputs": [
    {
     "data": {
      "text/plain": [
       "she    1647\n",
       "he     1288\n",
       "Name: pronoun, dtype: int64"
      ]
     },
     "execution_count": 34,
     "metadata": {},
     "output_type": "execute_result"
    }
   ],
   "source": [
    "df.pronoun.str.lower().value_counts()"
   ]
  },
  {
   "cell_type": "markdown",
   "metadata": {},
   "source": [
    "## What are the top 20 most common verbs?"
   ]
  },
  {
   "cell_type": "code",
   "execution_count": 35,
   "metadata": {},
   "outputs": [
    {
     "data": {
      "text/plain": [
       "was          372\n",
       "had          371\n",
       "could        172\n",
       "is           139\n",
       "would         94\n",
       "has           70\n",
       "did           67\n",
       "will          50\n",
       "might         46\n",
       "should        41\n",
       "felt          38\n",
       "must          37\n",
       "said          33\n",
       "saw           32\n",
       "added         31\n",
       "thought       31\n",
       "then          26\n",
       "replied       22\n",
       "looked        21\n",
       "continued     21\n",
       "Name: verb, dtype: int64"
      ]
     },
     "execution_count": 35,
     "metadata": {},
     "output_type": "execute_result"
    }
   ],
   "source": [
    "df.verb.value_counts().head(20)"
   ]
  },
  {
   "cell_type": "markdown",
   "metadata": {},
   "source": [
    "## What are the top 20 most common verbs for 'he', and the top 20 most common for 'she'\n",
    "\n",
    "**Tip:** Don't use groupby, just filter. If you want to know how, though, you can also look at \"value counts for different categories\" on [this page](http://jonathansoma.com/lede/foundations-2017/classes/more-pandas/class-notes/)"
   ]
  },
  {
   "cell_type": "code",
   "execution_count": 36,
   "metadata": {},
   "outputs": [
    {
     "data": {
      "text/plain": [
       "had        166\n",
       "was        160\n",
       "is          74\n",
       "has         49\n",
       "could       40\n",
       "would       35\n",
       "did         29\n",
       "should      26\n",
       "must        24\n",
       "will        24\n",
       "might       21\n",
       "replied     14\n",
       "may         13\n",
       "thought     13\n",
       "came        13\n",
       "said        13\n",
       "never       12\n",
       "does        12\n",
       "then        11\n",
       "meant       11\n",
       "Name: verb, dtype: int64"
      ]
     },
     "execution_count": 36,
     "metadata": {},
     "output_type": "execute_result"
    }
   ],
   "source": [
    "df[df.pronoun.str.lower() == 'he'].verb.value_counts().head(20)"
   ]
  },
  {
   "cell_type": "code",
   "execution_count": 37,
   "metadata": {},
   "outputs": [
    {
     "data": {
      "text/plain": [
       "was          212\n",
       "had          205\n",
       "could        132\n",
       "is            65\n",
       "would         59\n",
       "did           38\n",
       "felt          33\n",
       "saw           29\n",
       "will          26\n",
       "might         25\n",
       "added         23\n",
       "has           21\n",
       "said          20\n",
       "thought       18\n",
       "should        15\n",
       "then          15\n",
       "found         13\n",
       "must          13\n",
       "soon          12\n",
       "continued     11\n",
       "Name: verb, dtype: int64"
      ]
     },
     "execution_count": 37,
     "metadata": {},
     "output_type": "execute_result"
    }
   ],
   "source": [
    "df[df.pronoun.str.lower() == 'she'].verb.value_counts().head(20)"
   ]
  },
  {
   "cell_type": "markdown",
   "metadata": {},
   "source": [
    "## Who cries more, men or women? Give me a percentage answer.\n",
    "\n",
    "**Tip:** It's `cried`, because of, you know, how books are written"
   ]
  },
  {
   "cell_type": "code",
   "execution_count": 38,
   "metadata": {},
   "outputs": [
    {
     "data": {
      "text/plain": [
       "she    91.666667\n",
       "he      8.333333\n",
       "Name: pronoun, dtype: float64"
      ]
     },
     "execution_count": 38,
     "metadata": {},
     "output_type": "execute_result"
    }
   ],
   "source": [
    "df[df.verb == 'cried'].pronoun.value_counts(normalize=True) * 100"
   ]
  },
  {
   "cell_type": "markdown",
   "metadata": {},
   "source": [
    "## How much more common is 'he' than 'she' in J.R.R. Tolkein's Fellowship of the Ring? How does that compare to Pride and Prejudice?\n",
    "\n",
    "The book is in the same directory."
   ]
  },
  {
   "cell_type": "code",
   "execution_count": 39,
   "metadata": {},
   "outputs": [],
   "source": [
    "f = open('data/Lord of the Rings - 01 - The Fellowship of the Ring - J. R. R. Tolkien - 1955.txt')\n",
    "text = f.read()"
   ]
  },
  {
   "cell_type": "code",
   "execution_count": 40,
   "metadata": {},
   "outputs": [
    {
     "data": {
      "text/plain": [
       "he     3062\n",
       "she     159\n",
       "Name: pronoun, dtype: int64"
      ]
     },
     "execution_count": 40,
     "metadata": {},
     "output_type": "execute_result"
    }
   ],
   "source": [
    "pronouns = re.findall(r\"\\bs*he\\b\", text, re.IGNORECASE)\n",
    "df = pd.DataFrame(pronouns, columns=['pronoun'])\n",
    "df.pronoun.str.lower().value_counts()"
   ]
  },
  {
   "cell_type": "code",
   "execution_count": null,
   "metadata": {},
   "outputs": [],
   "source": []
  }
 ],
 "metadata": {
  "kernelspec": {
   "display_name": "Python 3",
   "language": "python",
   "name": "python3"
  },
  "language_info": {
   "codemirror_mode": {
    "name": "ipython",
    "version": 3
   },
   "file_extension": ".py",
   "mimetype": "text/x-python",
   "name": "python",
   "nbconvert_exporter": "python",
   "pygments_lexer": "ipython3",
   "version": "3.6.5"
  }
 },
 "nbformat": 4,
 "nbformat_minor": 2
}
